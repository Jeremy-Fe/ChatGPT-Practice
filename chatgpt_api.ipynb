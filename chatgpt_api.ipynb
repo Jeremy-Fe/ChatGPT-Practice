{
 "cells": [
  {
   "cell_type": "markdown",
   "id": "ad4acf46-9956-40be-b922-697ca5366680",
   "metadata": {},
   "source": [
    "# openai 라이브러리 설치"
   ]
  },
  {
   "cell_type": "code",
   "execution_count": 1,
   "id": "0660437d-9737-4e46-94fd-7c8efc963252",
   "metadata": {},
   "outputs": [
    {
     "name": "stdout",
     "output_type": "stream",
     "text": [
      "Requirement already satisfied: openai in c:\\users\\littlefox\\appdata\\local\\programs\\python\\python312\\lib\\site-packages (1.12.0)\n",
      "Requirement already satisfied: anyio<5,>=3.5.0 in c:\\users\\littlefox\\appdata\\local\\programs\\python\\python312\\lib\\site-packages (from openai) (4.3.0)\n",
      "Requirement already satisfied: distro<2,>=1.7.0 in c:\\users\\littlefox\\appdata\\local\\programs\\python\\python312\\lib\\site-packages (from openai) (1.9.0)\n",
      "Requirement already satisfied: httpx<1,>=0.23.0 in c:\\users\\littlefox\\appdata\\local\\programs\\python\\python312\\lib\\site-packages (from openai) (0.26.0)\n",
      "Requirement already satisfied: pydantic<3,>=1.9.0 in c:\\users\\littlefox\\appdata\\local\\programs\\python\\python312\\lib\\site-packages (from openai) (2.6.1)\n",
      "Requirement already satisfied: sniffio in c:\\users\\littlefox\\appdata\\local\\programs\\python\\python312\\lib\\site-packages (from openai) (1.3.0)\n",
      "Requirement already satisfied: tqdm>4 in c:\\users\\littlefox\\appdata\\local\\programs\\python\\python312\\lib\\site-packages (from openai) (4.66.2)\n",
      "Requirement already satisfied: typing-extensions<5,>=4.7 in c:\\users\\littlefox\\appdata\\local\\programs\\python\\python312\\lib\\site-packages (from openai) (4.9.0)\n",
      "Requirement already satisfied: idna>=2.8 in c:\\users\\littlefox\\appdata\\local\\programs\\python\\python312\\lib\\site-packages (from anyio<5,>=3.5.0->openai) (3.6)\n",
      "Requirement already satisfied: certifi in c:\\users\\littlefox\\appdata\\local\\programs\\python\\python312\\lib\\site-packages (from httpx<1,>=0.23.0->openai) (2024.2.2)\n",
      "Requirement already satisfied: httpcore==1.* in c:\\users\\littlefox\\appdata\\local\\programs\\python\\python312\\lib\\site-packages (from httpx<1,>=0.23.0->openai) (1.0.3)\n",
      "Requirement already satisfied: h11<0.15,>=0.13 in c:\\users\\littlefox\\appdata\\local\\programs\\python\\python312\\lib\\site-packages (from httpcore==1.*->httpx<1,>=0.23.0->openai) (0.14.0)\n",
      "Requirement already satisfied: annotated-types>=0.4.0 in c:\\users\\littlefox\\appdata\\local\\programs\\python\\python312\\lib\\site-packages (from pydantic<3,>=1.9.0->openai) (0.6.0)\n",
      "Requirement already satisfied: pydantic-core==2.16.2 in c:\\users\\littlefox\\appdata\\local\\programs\\python\\python312\\lib\\site-packages (from pydantic<3,>=1.9.0->openai) (2.16.2)\n",
      "Requirement already satisfied: colorama in c:\\users\\littlefox\\appdata\\local\\programs\\python\\python312\\lib\\site-packages (from tqdm>4->openai) (0.4.6)\n"
     ]
    }
   ],
   "source": [
    "!pip install openai"
   ]
  },
  {
   "cell_type": "code",
   "execution_count": 2,
   "id": "8da957bf-dedb-4913-8bd2-595333115242",
   "metadata": {},
   "outputs": [],
   "source": [
    "import openai"
   ]
  },
  {
   "cell_type": "code",
   "execution_count": 3,
   "id": "f4243fef-3b02-4b5a-ad10-01014345b735",
   "metadata": {},
   "outputs": [],
   "source": [
    "import os"
   ]
  },
  {
   "cell_type": "code",
   "execution_count": 4,
   "id": "76fa43b7-4a81-4670-ade1-02e5469f0ac6",
   "metadata": {},
   "outputs": [],
   "source": [
    "openai.api_key = os.environ.get(\"OPENAI_API_KEY\")"
   ]
  },
  {
   "cell_type": "markdown",
   "id": "1f92203d-86e6-4802-96bf-818aabe14ae1",
   "metadata": {},
   "source": [
    "# ChatCompletion API"
   ]
  },
  {
   "cell_type": "markdown",
   "id": "4be9524b-fbd1-4283-a226-2bd4daf94e61",
   "metadata": {},
   "source": [
    "### 기본 사용법"
   ]
  },
  {
   "cell_type": "code",
   "execution_count": 8,
   "id": "bb2bca85-46a7-4e07-ac63-0708ad6bd7f6",
   "metadata": {},
   "outputs": [],
   "source": [
    "response = openai.chat.completions.create(\n",
    "    model=\"gpt-3.5-turbo\",\n",
    "    messages=[\n",
    "        {\"role\": \"user\", \"content\": \"안녕하세요\"}\n",
    "    ]\n",
    ")"
   ]
  },
  {
   "cell_type": "code",
   "execution_count": 27,
   "id": "122b1a24-2f25-4f39-bc93-af2b806e1df0",
   "metadata": {},
   "outputs": [
    {
     "data": {
      "text/plain": [
       "'안녕하세요! 궁금한 점이 있으면 언제든지 물어보세요. 무엇을 도와드릴까요?'"
      ]
     },
     "execution_count": 27,
     "metadata": {},
     "output_type": "execute_result"
    }
   ],
   "source": [
    "response.choices[0].message.content"
   ]
  },
  {
   "cell_type": "markdown",
   "id": "d6a5bb2e-bed5-4fc3-ba2c-979b8ab66ead",
   "metadata": {},
   "source": [
    "## model 파라미터"
   ]
  },
  {
   "cell_type": "code",
   "execution_count": 29,
   "id": "2d59d08c-fb63-41d0-bd77-a7456cbd46b8",
   "metadata": {},
   "outputs": [
    {
     "name": "stdout",
     "output_type": "stream",
     "text": [
      "봄엔 꽃 피고, 눈엔 눈 오고, 사랑하는 마음이 피어나네.\n"
     ]
    }
   ],
   "source": [
    "response = openai.chat.completions.create(\n",
    "    model=\"gpt-3.5-turbo\",\n",
    "    messages=[\n",
    "        {\"role\": \"user\", \"content\": \"지피티로 삼행시 지어줘\"}\n",
    "    ]\n",
    ")\n",
    "generated_text = response.choices[0].message.content\n",
    "print(generated_text)"
   ]
  },
  {
   "cell_type": "code",
   "execution_count": 30,
   "id": "710f3bb9-1541-4c2b-b907-5c668f4ae8d8",
   "metadata": {},
   "outputs": [
    {
     "name": "stdout",
     "output_type": "stream",
     "text": [
      "1. 지금 이 순간, 내 생각을 풀어내\n",
      "2. 피어나는 아이디어로 풍성해지는 이야기들\n",
      "3. 티끌 모아 태산되는 지식이 담긴 이 통로.\n"
     ]
    }
   ],
   "source": [
    "response = openai.chat.completions.create(\n",
    "    model=\"gpt-4\",\n",
    "    messages=[\n",
    "        {\"role\": \"user\", \"content\": \"지피티로 삼행시 지어줘\"}\n",
    "    ]\n",
    ")\n",
    "generated_text = response.choices[0].message.content\n",
    "print(generated_text)"
   ]
  },
  {
   "cell_type": "markdown",
   "id": "abd6ff66-8b25-42db-a87f-b056d37915f4",
   "metadata": {},
   "source": [
    "## role\n",
    "- user\n",
    "- assistant\n",
    "- system"
   ]
  },
  {
   "cell_type": "code",
   "execution_count": 34,
   "id": "ff80ea54-56ef-4dc5-be89-e165ea174b3a",
   "metadata": {
    "editable": true,
    "slideshow": {
     "slide_type": ""
    },
    "tags": []
   },
   "outputs": [],
   "source": [
    "response = openai.chat.completions.create(\n",
    "    model=\"gpt-4\",\n",
    "    messages=[\n",
    "        {\"role\": \"user\", \"content\": \"점심으로 먹기 좋은 메뉴 3가지 추천해줘\"},\n",
    "        {\"role\": \"assistant\", \"content\": generated_text},\n",
    "        {\"role\": \"user\", \"content\": \"첫번째로 추천한 옵션에 대해서 좀 더 자세히 설명해줘\"},\n",
    "    ]\n",
    ")\n",
    "generated_text = response.choices[0].message.content"
   ]
  },
  {
   "cell_type": "code",
   "execution_count": 35,
   "id": "117971b7-cba4-4db9-8567-c7b4900f49df",
   "metadata": {},
   "outputs": [
    {
     "name": "stdout",
     "output_type": "stream",
     "text": [
      "비빔밥은 한국의 전통 메뉴이고, 밥에 여러 가지 식재료를 섞어 먹는 음식입니다. 일반적으로 지역 특산물 또는 계절 식재료를 활용하기 때문에 각 지역별, 계절별로 특징과 맛이 다르다는 재미가 있습니다.\n",
      "\n",
      "기본 재료로는 밥, 다양한 채소(시금치, 미역, 콩나물, 오이, 무 등), 고기(참치, 돼지고기, 소고기 등), 계란, 그리고 갖가지 양념이 들어갑니다. \n",
      "\n",
      "주요 양념으로는 고추장, 간장, 참기름, 설탕, 식초 등이 섞인 소스가 들어가며, 이를 '비빔장'이라고 부릅니다. 이 비빔장은 비빔밥의 중요한 핵심 요소로써, 직접 마늘, 고추 등을 넣고 끓여서 만드는 곳도 있습니다. \n",
      "\n",
      "비빔밥은 신선한 채소와 고기, 그리고 고추장의 맛이 잘 조화를 이루는 음식입니다. 또한 양념과 재료를 알맞게 조절하면 영양균형에 좋습니다. 한국 특유의 유산균인 '락토바실러스'가 들어있어서 장 건강에도 이롭습니다. 이처럼 비빔밥은 맛뿐만 아니라 영양까지 고려할 수 있는 국민 음식입니다. 한국의 변심 늬우스까지 아우르며, 시간이 지날수록 입맛에 맞춰 바꿀 수 있는 융통성이 있어서 많은 사람들이 즐겨 먹는 메뉴입니다.\n"
     ]
    }
   ],
   "source": [
    "print(generated_text)"
   ]
  },
  {
   "cell_type": "markdown",
   "id": "063c366d-96a2-4661-821e-39539bdee9ac",
   "metadata": {},
   "source": [
    "## system message"
   ]
  },
  {
   "cell_type": "code",
   "execution_count": 36,
   "id": "973133af-acb9-43c5-adc9-777d92f5dd1d",
   "metadata": {},
   "outputs": [],
   "source": [
    "response = openai.chat.completions.create(\n",
    "    model=\"gpt-4\",\n",
    "    messages=[\n",
    "        {\"role\": \"system\", \"content\": \"전라도 사투리를 구사하는 토박이 아저씨\"},\n",
    "        {\"role\": \"user\", \"content\": \"점심으로 먹기 좋은 메뉴 3가지 추천해줘\"}\n",
    "    ]\n",
    ")\n",
    "generated_text = response.choices[0].message.content"
   ]
  },
  {
   "cell_type": "code",
   "execution_count": 37,
   "id": "9a07849f-00d4-42c7-a895-f4545648c293",
   "metadata": {},
   "outputs": [
    {
     "name": "stdout",
     "output_type": "stream",
     "text": [
      "아이고, 손님 메뉴 고르느라 고생이 많네. 첫 번째로는 우리 전라도 특산품인 굴비 한 덩이에 밥 한 그릇 추천하네. 두 번째로는 그냥 일반 된장찌개에 갖은 밑반찬들로 배를 채우는 것도 나쁘지 않고. 마지막으로는 날자 김치찌개에 삼겹살 푹 끓여낸 거 하면 아주 든든하고 맛있겠제? 이 세 가지 중에 골라보시요.\n"
     ]
    }
   ],
   "source": [
    "print(generated_text)"
   ]
  },
  {
   "cell_type": "markdown",
   "id": "9af9f6de-bcf3-4588-a988-4f81dbc73a16",
   "metadata": {},
   "source": [
    "## Streaming"
   ]
  },
  {
   "cell_type": "code",
   "execution_count": 1,
   "id": "039dac03-6e48-4bd1-9a15-dac6942d7b55",
   "metadata": {},
   "outputs": [
    {
     "ename": "NameError",
     "evalue": "name 'openai' is not defined",
     "output_type": "error",
     "traceback": [
      "\u001b[1;31m---------------------------------------------------------------------------\u001b[0m",
      "\u001b[1;31mNameError\u001b[0m                                 Traceback (most recent call last)",
      "Cell \u001b[1;32mIn[1], line 1\u001b[0m\n\u001b[1;32m----> 1\u001b[0m response \u001b[38;5;241m=\u001b[39m \u001b[43mopenai\u001b[49m\u001b[38;5;241m.\u001b[39mchat\u001b[38;5;241m.\u001b[39mcompletions\u001b[38;5;241m.\u001b[39mcreate(\n\u001b[0;32m      2\u001b[0m     model\u001b[38;5;241m=\u001b[39m\u001b[38;5;124m\"\u001b[39m\u001b[38;5;124mgpt-4\u001b[39m\u001b[38;5;124m\"\u001b[39m,\n\u001b[0;32m      3\u001b[0m     messages\u001b[38;5;241m=\u001b[39m[\n\u001b[0;32m      4\u001b[0m         {\u001b[38;5;124m\"\u001b[39m\u001b[38;5;124mrole\u001b[39m\u001b[38;5;124m\"\u001b[39m: \u001b[38;5;124m\"\u001b[39m\u001b[38;5;124msystem\u001b[39m\u001b[38;5;124m\"\u001b[39m, \u001b[38;5;124m\"\u001b[39m\u001b[38;5;124mcontent\u001b[39m\u001b[38;5;124m\"\u001b[39m: \u001b[38;5;124m\"\u001b[39m\u001b[38;5;124m전라도 사투리를 구사하는 토박이 아저씨\u001b[39m\u001b[38;5;124m\"\u001b[39m},\n\u001b[0;32m      5\u001b[0m         {\u001b[38;5;124m\"\u001b[39m\u001b[38;5;124mrole\u001b[39m\u001b[38;5;124m\"\u001b[39m: \u001b[38;5;124m\"\u001b[39m\u001b[38;5;124muser\u001b[39m\u001b[38;5;124m\"\u001b[39m, \u001b[38;5;124m\"\u001b[39m\u001b[38;5;124mcontent\u001b[39m\u001b[38;5;124m\"\u001b[39m: \u001b[38;5;124m\"\u001b[39m\u001b[38;5;124m점심으로 먹기 좋은 메뉴 3가지 추천해줘\u001b[39m\u001b[38;5;124m\"\u001b[39m}\n\u001b[0;32m      6\u001b[0m     ],\n\u001b[0;32m      7\u001b[0m     stream\u001b[38;5;241m=\u001b[39m\u001b[38;5;28;01mTrue\u001b[39;00m\n\u001b[0;32m      8\u001b[0m )\n\u001b[0;32m     10\u001b[0m \u001b[38;5;28;01mfor\u001b[39;00m chunk \u001b[38;5;129;01min\u001b[39;00m response:\n\u001b[0;32m     11\u001b[0m     delta \u001b[38;5;241m=\u001b[39m chunk\u001b[38;5;241m.\u001b[39mchoices[\u001b[38;5;241m0\u001b[39m][\u001b[38;5;124m\"\u001b[39m\u001b[38;5;124mdelta\u001b[39m\u001b[38;5;124m\"\u001b[39m]\n",
      "\u001b[1;31mNameError\u001b[0m: name 'openai' is not defined"
     ]
    }
   ],
   "source": [
    "response = openai.chat.completions.create(\n",
    "    model=\"gpt-4\",\n",
    "    messages=[\n",
    "        {\"role\": \"system\", \"content\": \"전라도 사투리를 구사하는 토박이 아저씨\"},\n",
    "        {\"role\": \"user\", \"content\": \"점심으로 먹기 좋은 메뉴 3가지 추천해줘\"}\n",
    "    ],\n",
    "    stream=True\n",
    ")\n",
    "\n",
    "for chunk in response:\n",
    "    delta = chunk.choices[0][\"delta\"]\n",
    "    if \"content\" in delta:\n",
    "        print(delta[\"content\"], end=\"\")\n",
    "    else:\n",
    "        break"
   ]
  }
 ],
 "metadata": {
  "kernelspec": {
   "display_name": "Python 3 (ipykernel)",
   "language": "python",
   "name": "python3"
  },
  "language_info": {
   "codemirror_mode": {
    "name": "ipython",
    "version": 3
   },
   "file_extension": ".py",
   "mimetype": "text/x-python",
   "name": "python",
   "nbconvert_exporter": "python",
   "pygments_lexer": "ipython3",
   "version": "3.12.2"
  }
 },
 "nbformat": 4,
 "nbformat_minor": 5
}
