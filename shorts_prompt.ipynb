{
 "cells": [
  {
   "cell_type": "markdown",
   "id": "704cb161-b864-46fd-ba64-59c25674775d",
   "metadata": {},
   "source": [
    "## 사전 작업"
   ]
  },
  {
   "cell_type": "code",
   "execution_count": 1,
   "id": "0db92d61-34b7-42eb-a030-d98a9984d710",
   "metadata": {},
   "outputs": [],
   "source": [
    "from common import request_chat_completion, print_streaming_response_console"
   ]
  },
  {
   "cell_type": "code",
   "execution_count": 2,
   "id": "aeaefff7-bf56-46a3-9310-b968652f5601",
   "metadata": {},
   "outputs": [
    {
     "name": "stdout",
     "output_type": "stream",
     "text": [
      "안녕하세요! 어떻게 도와드릴까요?"
     ]
    },
    {
     "data": {
      "text/plain": [
       "'안녕하세요! 어떻게 도와드릴까요?'"
      ]
     },
     "execution_count": 2,
     "metadata": {},
     "output_type": "execute_result"
    }
   ],
   "source": [
    "prompt = \"안녕하세요\"\n",
    "response = request_chat_completion(prompt, stream=True)\n",
    "print_streaming_response_console(response)"
   ]
  },
  {
   "cell_type": "code",
   "execution_count": 11,
   "id": "41e97e13-4eb4-4423-9352-0630fb77a16c",
   "metadata": {},
   "outputs": [],
   "source": [
    "import requests\n",
    "from bs4 import BeautifulSoup\n",
    "\n",
    "def crawl_naver_entertainment(url):\n",
    "    response = requests.get(url)\n",
    "    soup = BeautifulSoup(response.text, \"lxml\")\n",
    "    article = soup.find(\"div\", class_=\"article_body\").text.strip()\n",
    "    return article   "
   ]
  },
  {
   "cell_type": "code",
   "execution_count": 13,
   "id": "853bbee9-941c-484a-9aa7-dfc7562cad6a",
   "metadata": {},
   "outputs": [],
   "source": [
    "example_url = \"https://entertain.naver.com/read?oid=144&aid=0000917660\""
   ]
  },
  {
   "cell_type": "code",
   "execution_count": 14,
   "id": "7d5b1c8a-73ed-486e-8c56-9a4b3bcdaa93",
   "metadata": {},
   "outputs": [
    {
     "data": {
      "text/plain": [
       "'정국. 빅히트뮤직방탄소년단 정국이 미국 빌보드 차트를 강타했다.10일(현지시간) 미국 음악 전문 매체 빌보드가 발표한 최신 차트(10월 14일 자)에 따르면, 방탄소년단 정국의 두 번째 솔로 싱글 ‘3D (feat. Jack Harlow)’가 메인 송차트 ‘핫 100’에서 5위에 올랐다. 정국의 첫 번째 싱글 ‘Seven (feat. Latto)’은 57위로 12주 연속 ‘핫 100’ 차트인했다.특히, 정국은 지난해 슈가가 프로듀싱한 하이브 오리지널 스토리 ‘7FATES: CHAKHO’의 OST ‘Stay Alive’ (Prod. SUGA of BTS)’와 찰리 푸스와의 협업곡 ‘Lefe and Right’, 올해 ‘Seven’과 ‘3D’ 등 통산 4개의 솔로 곡을 ‘핫 100’에 올렸다. 정국은 특히, 한국 솔로 아티스트로는 최초로 두 개 이상의 노래를 공개와 동시에 이 차트의 ‘톱 5’에 진입시킨 가수가 됐다.‘3D’는 ‘디지털 송 세일즈’, ‘글로벌 200’, ‘글로벌(미국 제외)’에서 각각 1위에 올랐고, ‘스트리밍 송’ 12위, ‘팝 에어플레이’ 34위 등 여러 차트에 포진했다.‘Seven’도 꾸준히 인기몰이 중이다. 이 곡은 ‘글로벌(미국 제외)’ 2위, ‘글로벌 200’ 3위에 이름을 올리며 ‘3D’와 쌍끌이 흥행을 이끌고 있다.뷔의 솔로 앨범 ‘Layover’는 메인 앨범차트 ‘빌보드 200’에서 70위로 4주 연속 차트인한 것을 비롯해 ‘톱 커런트 앨범’ 6위, ‘톱 앨범 세일즈’ 10위에 올랐다. 이 앨범의 타이틀곡 ‘Slow Dancing’은 ‘글로벌(미국 제외)’ 20위, ‘글로벌 200’ 36위에 자리했다.지민 솔로 앨범 ‘FACE’의 타이틀곡 ‘Like Crazy’는 ‘글로벌(미국 제외)’ 48위, ‘글로벌 200’ 77위에 랭크됐으며, 제이홉의 솔로 앨범 ‘Jack In The Box’는 ‘톱 커런트 앨범’ 41위, ‘톱 앨범 세일즈’ 57위에 랭크됐다.김도곤 온라인기자 kim2010@kyunghyang.com'"
      ]
     },
     "execution_count": 14,
     "metadata": {},
     "output_type": "execute_result"
    }
   ],
   "source": [
    "crawl_naver_entertainment(example_url)"
   ]
  },
  {
   "cell_type": "markdown",
   "id": "a29185f3-3389-40fa-a67a-c66b258dc058",
   "metadata": {},
   "source": [
    "## 프롬프트 엔지니어링"
   ]
  },
  {
   "cell_type": "code",
   "execution_count": 15,
   "id": "cf89e5fb-36c6-4636-984f-6b22567181be",
   "metadata": {},
   "outputs": [],
   "source": [
    "prompt_template_v1 = \"\"\"\n",
    "최신 연예 뉴스 기사가 주어집니다.\n",
    "뉴스 기사를 참고해서 유튜브 쇼츠 대본을 작성해주세요.\n",
    "흥미롭고 자극적으로 작성해주세요.\n",
    "\n",
    "---\n",
    "뉴스 기사: {article}\n",
    "---\n",
    "\"\"\".strip()"
   ]
  },
  {
   "cell_type": "code",
   "execution_count": 16,
   "id": "0e5c4f0b-0380-4d32-867d-e39d4f6cd8fc",
   "metadata": {},
   "outputs": [],
   "source": [
    "article = crawl_naver_entertainment(example_url)"
   ]
  },
  {
   "cell_type": "code",
   "execution_count": 17,
   "id": "2392d8de-c2fd-407b-a4af-8d0aee4b4161",
   "metadata": {},
   "outputs": [],
   "source": [
    "prompt = prompt_template_v1.format(article=article)"
   ]
  },
  {
   "cell_type": "code",
   "execution_count": 18,
   "id": "c98a1293-0b9c-4820-93fb-2854f775bf95",
   "metadata": {},
   "outputs": [
    {
     "name": "stdout",
     "output_type": "stream",
     "text": [
      "최신 연예 뉴스 기사가 주어집니다.\n",
      "뉴스 기사를 참고해서 유튜브 쇼츠 대본을 작성해주세요.\n",
      "흥미롭고 자극적으로 작성해주세요.\n",
      "\n",
      "---\n",
      "뉴스 기사: 정국. 빅히트뮤직방탄소년단 정국이 미국 빌보드 차트를 강타했다.10일(현지시간) 미국 음악 전문 매체 빌보드가 발표한 최신 차트(10월 14일 자)에 따르면, 방탄소년단 정국의 두 번째 솔로 싱글 ‘3D (feat. Jack Harlow)’가 메인 송차트 ‘핫 100’에서 5위에 올랐다. 정국의 첫 번째 싱글 ‘Seven (feat. Latto)’은 57위로 12주 연속 ‘핫 100’ 차트인했다.특히, 정국은 지난해 슈가가 프로듀싱한 하이브 오리지널 스토리 ‘7FATES: CHAKHO’의 OST ‘Stay Alive’ (Prod. SUGA of BTS)’와 찰리 푸스와의 협업곡 ‘Lefe and Right’, 올해 ‘Seven’과 ‘3D’ 등 통산 4개의 솔로 곡을 ‘핫 100’에 올렸다. 정국은 특히, 한국 솔로 아티스트로는 최초로 두 개 이상의 노래를 공개와 동시에 이 차트의 ‘톱 5’에 진입시킨 가수가 됐다.‘3D’는 ‘디지털 송 세일즈’, ‘글로벌 200’, ‘글로벌(미국 제외)’에서 각각 1위에 올랐고, ‘스트리밍 송’ 12위, ‘팝 에어플레이’ 34위 등 여러 차트에 포진했다.‘Seven’도 꾸준히 인기몰이 중이다. 이 곡은 ‘글로벌(미국 제외)’ 2위, ‘글로벌 200’ 3위에 이름을 올리며 ‘3D’와 쌍끌이 흥행을 이끌고 있다.뷔의 솔로 앨범 ‘Layover’는 메인 앨범차트 ‘빌보드 200’에서 70위로 4주 연속 차트인한 것을 비롯해 ‘톱 커런트 앨범’ 6위, ‘톱 앨범 세일즈’ 10위에 올랐다. 이 앨범의 타이틀곡 ‘Slow Dancing’은 ‘글로벌(미국 제외)’ 20위, ‘글로벌 200’ 36위에 자리했다.지민 솔로 앨범 ‘FACE’의 타이틀곡 ‘Like Crazy’는 ‘글로벌(미국 제외)’ 48위, ‘글로벌 200’ 77위에 랭크됐으며, 제이홉의 솔로 앨범 ‘Jack In The Box’는 ‘톱 커런트 앨범’ 41위, ‘톱 앨범 세일즈’ 57위에 랭크됐다.김도곤 온라인기자 kim2010@kyunghyang.com\n",
      "---\n"
     ]
    }
   ],
   "source": [
    "print(prompt)"
   ]
  },
  {
   "cell_type": "code",
   "execution_count": 19,
   "id": "d81e7516-ef87-4669-b9de-8118f0b6e364",
   "metadata": {},
   "outputs": [
    {
     "name": "stdout",
     "output_type": "stream",
     "text": [
      "[장면: 유튜브 스튜디오]\n",
      "\n",
      "(배경음악: 힙합 비트)\n",
      "\n",
      "MC: \"안녕하세요, 여러분! 오늘은 역대급 기록을 세우고 있는 아이돌 그룹의 멤버, 방탄소년단 정국에 대해 알아보도록 하겠습니다! 정말 대단하죠, 정국!?\"\n",
      "\n",
      "(클립 소리)\n",
      "\n",
      "정국: \"오, 안녕하세요! 네, 최근 빌보드 차트에서 5위에 이름을 올린 정국입니다. 과연 그것이 끝일까요? 아니에요, 여러분! 두 번째 솔로 싱글 '3D'가 두각을 나타내고 있어요! 이건 진짜 대박이랍니다!\"\n",
      "\n",
      "(팬플래시 소리)\n",
      "\n",
      "MC: \"와, 대단합니다! 정말 자랑스럽네요. 또 다른 솔로 곡 'Seven'도 꾸준한 인기를 끌고 있죠. 정말 멋진 모습입니다.\"\n",
      "\n",
      "(비트 섹션 전환)\n",
      "\n",
      "MC: \"한편, 다른 멤버들도 솔로 활동으로 화제를 모으고 있는데요. 뷔의 'Layover'는 차트에서 꾸준한 위치를 유지하고 있고, 지민의 'Like Crazy' 역시 정말 멋진 곡이죠!\"\n",
      "\n",
      "(댄서와 함께 쇼 댄스)\n",
      "\n",
      "MC: \"와, 현재 방탄소년단 멤버들의 솔로 활동이 정말 뜨겁죠! 여러분도 이들의 음악을 놓치지 마세요! 함께 멋진 음악을 즐기며 우리의 아이돌들을 응원해주시죠! 감사합니다!\"\n",
      "\n",
      "(배경음악 종료)\n",
      "\n",
      "(화면 페이드 아웃)"
     ]
    },
    {
     "data": {
      "text/plain": [
       "'[장면: 유튜브 스튜디오]\\n\\n(배경음악: 힙합 비트)\\n\\nMC: \"안녕하세요, 여러분! 오늘은 역대급 기록을 세우고 있는 아이돌 그룹의 멤버, 방탄소년단 정국에 대해 알아보도록 하겠습니다! 정말 대단하죠, 정국!?\"\\n\\n(클립 소리)\\n\\n정국: \"오, 안녕하세요! 네, 최근 빌보드 차트에서 5위에 이름을 올린 정국입니다. 과연 그것이 끝일까요? 아니에요, 여러분! 두 번째 솔로 싱글 \\'3D\\'가 두각을 나타내고 있어요! 이건 진짜 대박이랍니다!\"\\n\\n(팬플래시 소리)\\n\\nMC: \"와, 대단합니다! 정말 자랑스럽네요. 또 다른 솔로 곡 \\'Seven\\'도 꾸준한 인기를 끌고 있죠. 정말 멋진 모습입니다.\"\\n\\n(비트 섹션 전환)\\n\\nMC: \"한편, 다른 멤버들도 솔로 활동으로 화제를 모으고 있는데요. 뷔의 \\'Layover\\'는 차트에서 꾸준한 위치를 유지하고 있고, 지민의 \\'Like Crazy\\' 역시 정말 멋진 곡이죠!\"\\n\\n(댄서와 함께 쇼 댄스)\\n\\nMC: \"와, 현재 방탄소년단 멤버들의 솔로 활동이 정말 뜨겁죠! 여러분도 이들의 음악을 놓치지 마세요! 함께 멋진 음악을 즐기며 우리의 아이돌들을 응원해주시죠! 감사합니다!\"\\n\\n(배경음악 종료)\\n\\n(화면 페이드 아웃)'"
      ]
     },
     "execution_count": 19,
     "metadata": {},
     "output_type": "execute_result"
    }
   ],
   "source": [
    "response = request_chat_completion(prompt, stream=True)\n",
    "print_streaming_response_console(response)"
   ]
  },
  {
   "cell_type": "markdown",
   "id": "790063fc-04c5-4884-a695-028c83d1d3b3",
   "metadata": {},
   "source": [
    "## 포멧 제한"
   ]
  },
  {
   "cell_type": "code",
   "execution_count": 20,
   "id": "1c5b4b7b-d911-48df-a812-c91e8e3d70ed",
   "metadata": {},
   "outputs": [],
   "source": [
    "prompt_template_v2 = \"\"\"\n",
    "최신 연예 뉴스 기사가 주어집니다.\n",
    "뉴스 기사를 참고해서 유튜브 쇼츠 대본을 작성해주세요.\n",
    "흥미롭고 자극적으로 작성해주세요.\n",
    "아래 포맷으로 작성해주세요.\n",
    "[제목] <제목 텍스트>\\n\\n\n",
    "[클립] <영상에서 보여줄 이미지나 영상에 대한 묘사>\\n\n",
    "[대본] <나레이션 방식의 대본>\\n\n",
    "[클립] <영상에서 보여줄 이미지나 영상에 대한 묘사>\\n\n",
    "[대본] <나레이션 방식의 대본>\\n\n",
    "...\n",
    "---\n",
    "뉴스 기사: {article}\n",
    "---\n",
    "\"\"\".strip()"
   ]
  },
  {
   "cell_type": "code",
   "execution_count": 21,
   "id": "005efdbb-6eee-426f-b648-c486f33a82b5",
   "metadata": {},
   "outputs": [
    {
     "name": "stdout",
     "output_type": "stream",
     "text": [
      "[제목] 정국, 美 빌보드 차트 5위 돌파! 이번엔 '3D'로 강타\n",
      "\n",
      "[클립] 정국이 미국 빌보드 차트를 석권했다! 무대 위에서 열정적으로 곡을 선보이는 모습.\n",
      "\n",
      "[대본] \n",
      "나레이션: \"빅히트뮤직의 보석같은 보컬, 정국! 한국 솔로 아티스트 최초로 '핫 100' 차트 5위에 등극했다! '3D'로 화려하게 강타!\"\n",
      "\n",
      "[클립] 정국이 즐거운 미소를 띄며 팬들에게 감사의 인사를 전하는 모습.\n",
      "\n",
      "[대본] \n",
      "나레이션: \"정국의 역주행이 계속되고 있다! '3D'와 'Seven', 한국 솔로 아티스트 최초 2곡 동시 '핫 100' 톱 5 진입! 뜨거운 열풍이 불고 있다!\"\n",
      "\n",
      "...\n",
      "\n",
      "[클립] 정국이 스테이지 위에서 역동적인 퍼포먼스를 선보이며 관객들을 매료시키는 모습.\n",
      "\n",
      "[대본] \n",
      "나레이션: \"정국의 성공 호흡이 계속된다! 다수의 솔로 히트곡으로 '3D'와 'Seven'이 차트를 석권하며, 열정과 재능을 선보이는 정국의 매혹적인 무대는 계속 이어질 것이다!\""
     ]
    },
    {
     "data": {
      "text/plain": [
       "'[제목] 정국, 美 빌보드 차트 5위 돌파! 이번엔 \\'3D\\'로 강타\\n\\n[클립] 정국이 미국 빌보드 차트를 석권했다! 무대 위에서 열정적으로 곡을 선보이는 모습.\\n\\n[대본] \\n나레이션: \"빅히트뮤직의 보석같은 보컬, 정국! 한국 솔로 아티스트 최초로 \\'핫 100\\' 차트 5위에 등극했다! \\'3D\\'로 화려하게 강타!\"\\n\\n[클립] 정국이 즐거운 미소를 띄며 팬들에게 감사의 인사를 전하는 모습.\\n\\n[대본] \\n나레이션: \"정국의 역주행이 계속되고 있다! \\'3D\\'와 \\'Seven\\', 한국 솔로 아티스트 최초 2곡 동시 \\'핫 100\\' 톱 5 진입! 뜨거운 열풍이 불고 있다!\"\\n\\n...\\n\\n[클립] 정국이 스테이지 위에서 역동적인 퍼포먼스를 선보이며 관객들을 매료시키는 모습.\\n\\n[대본] \\n나레이션: \"정국의 성공 호흡이 계속된다! 다수의 솔로 히트곡으로 \\'3D\\'와 \\'Seven\\'이 차트를 석권하며, 열정과 재능을 선보이는 정국의 매혹적인 무대는 계속 이어질 것이다!\"'"
      ]
     },
     "execution_count": 21,
     "metadata": {},
     "output_type": "execute_result"
    }
   ],
   "source": [
    "prompt = prompt_template_v2.format(article=article)\n",
    "response = request_chat_completion(prompt, stream=True)\n",
    "print_streaming_response_console(response)"
   ]
  },
  {
   "cell_type": "markdown",
   "id": "6312dca9-afc7-46f3-8b39-b69efbd329ae",
   "metadata": {},
   "source": [
    "## 말투 적용"
   ]
  },
  {
   "cell_type": "code",
   "execution_count": 65,
   "id": "e13054b8-9f10-4e1a-907b-7b9624f78115",
   "metadata": {},
   "outputs": [],
   "source": [
    "prompt_template_v3 = \"\"\"\n",
    "최신 연예 뉴스 기사가 주어집니다.\n",
    "뉴스 기사를 참고해서 유튜브 쇼츠 대본을 작성해주세요.\n",
    "흥미롭고 자극적으로 작성해주세요.\n",
    "10대 소녀가 친구에게 말하는 듯한 말투로 작성해주세요.\n",
    "제목, 클립, 대본이 출력될때 반드시 줄바꿈을 하지마세요.\n",
    "\n",
    "아래 포맷으로 작성해주세요.\n",
    "[제목] <제목 텍스트>\\n\\n\n",
    "[클립] <영상에서 보여줄 이미지나 영상에 대한 묘사>\\n\n",
    "[대본] <나레이션 방식의 대본>\\n\n",
    "[클립] <영상에서 보여줄 이미지나 영상에 대한 묘사>\\n\n",
    "[대본] <나레이션 방식의 대본>\\n\n",
    "...\n",
    "---\n",
    "뉴스 기사: {article}\n",
    "---\n",
    "\"\"\".strip()"
   ]
  },
  {
   "cell_type": "code",
   "execution_count": 66,
   "id": "4520eeb2-817d-4023-966d-526717e824e3",
   "metadata": {},
   "outputs": [
    {
     "name": "stdout",
     "output_type": "stream",
     "text": [
      "[제목] 정국, 美 빌보드 차트를 휩쓸다!\n",
      "\n",
      "\n",
      "[클립] 정국이 미국 빌보드 차트에서 5위를 차지한 순간!\n",
      "\n",
      "[대본] (흥분된 목소리) 여러분, 이게 바로 K-pop의 힘! 정국이 미국 빌보드 차트를 휩쓸었습니다. 솔로 싱글 '3D'와 'Seven'이 두 곡 모두 차트에 오르며 정국의 피에로 얼마셨는지 보여주는 증거입니다! 과연 어디까지 올라갈 수 있을지 기대되는 순간이죠.\n",
      "\n",
      "[클립] 정국의 'Seven'과 '3D'가 함께 차트의 상위권을 채우는 모습!\n",
      "\n",
      "[대본] (흥분된 목소리) 정국이라는 이름은 이미 전세계적으로 유명합니다. 'Seven'과 '3D'가 함께 상위권을 유지하며 정국의 끼를 보여주는 순간! 이렇게 멤버들의 솔로 활동도 빅히트다운 강자들로 봉사해 나가고 있습니다. 더 이상 K-pop은 무시할 수 없는 힘을 갖고 있습니다!"
     ]
    }
   ],
   "source": [
    "prompt = prompt_template_v2.format(article=article)\n",
    "response = request_chat_completion(prompt, stream=True)\n",
    "message = print_streaming_response_console(response)"
   ]
  },
  {
   "cell_type": "markdown",
   "id": "45026d9f-cfec-41ea-935d-e67273a996c1",
   "metadata": {},
   "source": [
    "## 대본 파싱"
   ]
  },
  {
   "cell_type": "code",
   "execution_count": 68,
   "id": "a64513fe-2e5d-41e1-aa6a-ffab503ca2be",
   "metadata": {},
   "outputs": [],
   "source": [
    "scripts = [x.replace(\"[대본]\", \"\").strip() for x in message.split(\"\\n\") if x.startswith(\"[대본]\")]"
   ]
  },
  {
   "cell_type": "code",
   "execution_count": 69,
   "id": "329402a0-4141-48f4-807b-2126e4210bdb",
   "metadata": {},
   "outputs": [
    {
     "name": "stdout",
     "output_type": "stream",
     "text": [
      "[\"(흥분된 목소리) 여러분, 이게 바로 K-pop의 힘! 정국이 미국 빌보드 차트를 휩쓸었습니다. 솔로 싱글 '3D'와 'Seven'이 두 곡 모두 차트에 오르며 정국의 피에로 얼마셨는지 보여주는 증거입니다! 과연 어디까지 올라갈 수 있을지 기대되는 순간이죠.\", \"(흥분된 목소리) 정국이라는 이름은 이미 전세계적으로 유명합니다. 'Seven'과 '3D'가 함께 상위권을 유지하며 정국의 끼를 보여주는 순간! 이렇게 멤버들의 솔로 활동도 빅히트다운 강자들로 봉사해 나가고 있습니다. 더 이상 K-pop은 무시할 수 없는 힘을 갖고 있습니다!\"]\n"
     ]
    }
   ],
   "source": [
    "print(scripts)"
   ]
  },
  {
   "cell_type": "code",
   "execution_count": null,
   "id": "611c0139-6409-4e1a-a241-1ae13c2d833a",
   "metadata": {},
   "outputs": [],
   "source": []
  }
 ],
 "metadata": {
  "kernelspec": {
   "display_name": "Python 3 (ipykernel)",
   "language": "python",
   "name": "python3"
  },
  "language_info": {
   "codemirror_mode": {
    "name": "ipython",
    "version": 3
   },
   "file_extension": ".py",
   "mimetype": "text/x-python",
   "name": "python",
   "nbconvert_exporter": "python",
   "pygments_lexer": "ipython3",
   "version": "3.12.2"
  }
 },
 "nbformat": 4,
 "nbformat_minor": 5
}
