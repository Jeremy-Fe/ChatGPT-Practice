{
 "cells": [
  {
   "cell_type": "code",
   "execution_count": 1,
   "id": "2d610e35-81f1-42fa-ad3b-9796be4f12ef",
   "metadata": {},
   "outputs": [],
   "source": [
    "from common import request_chat_completion, print_streaming_response_console"
   ]
  },
  {
   "cell_type": "code",
   "execution_count": 4,
   "id": "158b47da-4a14-486e-902d-d19710e8b0dd",
   "metadata": {},
   "outputs": [
    {
     "name": "stdout",
     "output_type": "stream",
     "text": [
      "안녕하세요! 무엇을 도와드릴까요?"
     ]
    }
   ],
   "source": [
    "prompt=\"안녕하세요\"\n",
    "response = request_chat_completion(prompt, stream=True)\n",
    "message = print_streaming_response_console(response)"
   ]
  },
  {
   "cell_type": "markdown",
   "id": "0c23fc7f-90c8-43bd-840f-3e348e5aae64",
   "metadata": {},
   "source": [
    "## 프롬프트 템플릿"
   ]
  },
  {
   "cell_type": "code",
   "execution_count": 5,
   "id": "f4fbf37a-553a-4b4a-917e-68dce827560a",
   "metadata": {},
   "outputs": [],
   "source": [
    "prompt_template_v1 = \"\"\"\n",
    "기업 입사용 자기소개서를 작성해야합니다.\n",
    "답변해야하는 질문과 이에 관련된 유저의 경험을 참고해서 자기소개서를 작성해주세요.\n",
    "반드시 {max_length} 자 이내로 작성해야 합니다.\n",
    "\n",
    "---\n",
    "지원 회사: {company}\n",
    "지원 직무: {position}\n",
    "질문: {question}\n",
    "관련 경험: {experience}\n",
    "---\n",
    "\"\"\".strip()"
   ]
  },
  {
   "cell_type": "code",
   "execution_count": 6,
   "id": "cd3c174d-d829-4ec1-be01-7e9384129583",
   "metadata": {},
   "outputs": [],
   "source": [
    "example = {\n",
    "    \"company\": \"LG uplus\",\n",
    "    \"position\": \"기업부문 B2B 국내영업\",\n",
    "    \"max_length\": 500,\n",
    "    \"question\": \"소속된 조직의 공동과업을 달성하는 과정에서 발생했던 어려움과 그 어려움을 극복하기 위해 기울인 노력에 대해 구체적인 사례를 바탕으로 기술해 주십시오.\",\n",
    "    \"experience\": \"대학교 3학년 때 축구부 주장 역임.\\n총장배 대회 우승이라는 공동의 목표로 함께 노력.\\n주전 선수진 부상으로 어려움 겪었으나, 극복하고 8강 진출이라는 성과 달성\"\n",
    "}"
   ]
  },
  {
   "cell_type": "code",
   "execution_count": 8,
   "id": "9f6cb140-1cad-450a-a13a-a67a87a65aa3",
   "metadata": {},
   "outputs": [],
   "source": [
    "prompt = prompt_template_v1.format(\n",
    "    company = example[\"company\"],\n",
    "    position = example[\"position\"],\n",
    "    max_length = example[\"max_length\"],\n",
    "    question = example[\"question\"],\n",
    "    experience = example[\"experience\"]\n",
    ")"
   ]
  },
  {
   "cell_type": "code",
   "execution_count": 9,
   "id": "3fbe6db3-6a72-4087-a8bc-d0dd15ec0364",
   "metadata": {},
   "outputs": [
    {
     "name": "stdout",
     "output_type": "stream",
     "text": [
      "기업 입사용 자기소개서를 작성해야합니다.\n",
      "답변해야하는 질문과 이에 관련된 유저의 경험을 참고해서 자기소개서를 작성해주세요.\n",
      "반드시 500 자 이내로 작성해야 합니다.\n",
      "\n",
      "---\n",
      "지원 회사: LG uplus\n",
      "지원 직무: 기업부문 B2B 국내영업\n",
      "질문: 소속된 조직의 공동과업을 달성하는 과정에서 발생했던 어려움과 그 어려움을 극복하기 위해 기울인 노력에 대해 구체적인 사례를 바탕으로 기술해 주십시오.\n",
      "관련 경험: 대학교 3학년 때 축구부 주장 역임.\n",
      "총장배 대회 우승이라는 공동의 목표로 함께 노력.\n",
      "주전 선수진 부상으로 어려움 겪었으나, 극복하고 8강 진출이라는 성과 달성\n",
      "---\n"
     ]
    }
   ],
   "source": [
    "print(prompt)"
   ]
  },
  {
   "cell_type": "code",
   "execution_count": 10,
   "id": "6dbd21fa-1053-437f-b17a-889c0492a976",
   "metadata": {},
   "outputs": [
    {
     "name": "stdout",
     "output_type": "stream",
     "text": [
      "저의 경험 중 하나는 대학교 3학년 때 축구부 주장을 역임한 경험입니다. 그때 우리 팀의 공동 목표는 총장배 대회에서 우승하는 것이었습니다. 그러나 주전 선수들 중 몇 명이 부상을 입고 어려움을 겪게 되었습니다. 이 상황에서 우리는 팀원들 간의 소통과 협력을 통해 이 어려움을 극복하기 위해 노력했습니다. \n",
      "\n",
      "저는 부상당한 선수들에게 정서적 지지를 제공하고, 대체 선수들을 동기부여하여 우리 팀이 최선을 다할 수 있도록 했습니다. 또한 훈련과 전략을 개선하고, 전반적인 분위기를 격려하면서 팀원들의 자신감을 회복시키기 위해 노력했습니다. 결과적으로 우리는 함께 노력하여 8강 진출이라는 성과를 이루었습니다.\n",
      "\n",
      "이 경험을 통해 저는 어려운 상황에서도 팀원들과의 협업과 리더십의 중요성을 깨달았습니다. 공동의 목표를 위해 노력하고, 어려움을 극복하는 과정에서 저의 인내심과 문제해결능력이 향상되었습니다. LG Uplus에서도 이러한 경험을 활용하여 기업부문 B2B 국내 영업에서의 공동과업을 성공적으로 이루어내고 싶습니다."
     ]
    }
   ],
   "source": [
    "response = request_chat_completion(prompt, stream=True)\n",
    "message = print_streaming_response_console(response)"
   ]
  },
  {
   "cell_type": "code",
   "execution_count": 11,
   "id": "74c023df-a1bd-48f3-b789-b486b10d862e",
   "metadata": {},
   "outputs": [
    {
     "data": {
      "text/plain": [
       "514"
      ]
     },
     "execution_count": 11,
     "metadata": {},
     "output_type": "execute_result"
    }
   ],
   "source": [
    "len(message)"
   ]
  },
  {
   "cell_type": "markdown",
   "id": "11fd6cd4-e954-4b6d-9e1c-ba01858468a8",
   "metadata": {},
   "source": [
    "## 글자 수 제한"
   ]
  },
  {
   "cell_type": "code",
   "execution_count": 12,
   "id": "55f2b7b4-ad1e-4868-8905-72a927270b28",
   "metadata": {},
   "outputs": [],
   "source": [
    "prompt_template_v2 = \"\"\"\n",
    "기업 입사용 자기소개서를 작성해야합니다.\n",
    "답변해야하는 질문과 이에 관련된 유저의 경험을 참고해서 자기소개서를 작성해주세요.\n",
    "반드시 {max_length} 단어 이내로 작성해야 합니다.\n",
    "\n",
    "---\n",
    "지원 회사: {company}\n",
    "지원 직무: {position}\n",
    "질문: {question}\n",
    "관련 경험: {experience}\n",
    "---\n",
    "\"\"\".strip()"
   ]
  },
  {
   "cell_type": "code",
   "execution_count": 28,
   "id": "494f8c30-3edc-4eaa-9ee8-977d2d7741dc",
   "metadata": {},
   "outputs": [],
   "source": [
    "prompt = prompt_template_v2.format(\n",
    "    company = example[\"company\"],\n",
    "    position = example[\"position\"],\n",
    "    max_length = example[\"max_length\"]// 3, # 글자수 → 단어 수로 변경\n",
    "    question = example[\"question\"],\n",
    "    experience = example[\"experience\"]\n",
    ")"
   ]
  },
  {
   "cell_type": "code",
   "execution_count": 29,
   "id": "2028bae2-28b3-43d2-900e-8a0524271e28",
   "metadata": {},
   "outputs": [
    {
     "name": "stdout",
     "output_type": "stream",
     "text": [
      "기업 입사용 자기소개서를 작성해야합니다.\n",
      "답변해야하는 질문과 이에 관련된 유저의 경험을 참고해서 자기소개서를 작성해주세요.\n",
      "반드시 166 단어 이내로 작성해야 합니다.\n",
      "\n",
      "---\n",
      "지원 회사: LG uplus\n",
      "지원 직무: 기업부문 B2B 국내영업\n",
      "질문: 소속된 조직의 공동과업을 달성하는 과정에서 발생했던 어려움과 그 어려움을 극복하기 위해 기울인 노력에 대해 구체적인 사례를 바탕으로 기술해 주십시오.\n",
      "관련 경험: 대학교 3학년 때 축구부 주장 역임.\n",
      "총장배 대회 우승이라는 공동의 목표로 함께 노력.\n",
      "주전 선수진 부상으로 어려움 겪었으나, 극복하고 8강 진출이라는 성과 달성\n",
      "---\n"
     ]
    }
   ],
   "source": [
    "print(prompt)"
   ]
  },
  {
   "cell_type": "code",
   "execution_count": 30,
   "id": "7666798f-f02f-4db9-8f02-abcaa18b4a6b",
   "metadata": {},
   "outputs": [
    {
     "name": "stdout",
     "output_type": "stream",
     "text": [
      "저는 LG Uplus의 기업부문 B2B 국내영업 직무에 지원합니다. 대학교 3학년 때 축구부 주장을 맡았던 경험이 있습니다. 그 때 총장배 대회에서 우승을 목표로 모두가 함께 노력했습니다. 그러나 주전 선수진 중 부상자가 발생하여 어려움을 겪었지만, 저희 팀은 그것을 극복하기 위해 힘을 합쳤습니다. 저는 선수진을 지도하고 치유 지원을 제공하며, 모두가 힘을 모아 더 열심히 연습했습니다. 그 결과, 8강에 진출하는 성과를 이뤄내었습니다. 이 경험을 통해 어려운 상황에서도 팀원들을 이끄는 리더십과 협력의 중요성을 배웠습니다. LG Uplus에서도 이러한 경험을 바탕으로 조직의 공동과업을 달성하는데 기여하고 싶습니다.\n",
      "\n",
      "공백 포함 글자 수: 346\n"
     ]
    }
   ],
   "source": [
    "response = request_chat_completion(prompt, stream=True)\n",
    "message = print_streaming_response_console(response)\n",
    "print(f\"\\n\\n공백 포함 글자 수: {len(message)}\")"
   ]
  },
  {
   "cell_type": "markdown",
   "id": "a65e7aca-5530-4722-be02-542d8f448ffb",
   "metadata": {},
   "source": [
    "## 소제목 추가"
   ]
  },
  {
   "cell_type": "code",
   "execution_count": 31,
   "id": "46a6a6aa-8925-4e4f-b766-731acef29cbd",
   "metadata": {},
   "outputs": [],
   "source": [
    "prompt_template_v3 = \"\"\"\n",
    "기업 입사용 자기소개서를 작성해야합니다.\n",
    "답변해야하는 질문과 이에 관련된 유저의 경험을 참고해서 자기소개서를 작성해주세요.\n",
    "반드시 {max_length} 단어 이내로 작성해야 합니다.\n",
    "단락마다 소제목을 넣어주세요.\n",
    "---\n",
    "지원 회사: {company}\n",
    "지원 직무: {position}\n",
    "질문: {question}\n",
    "관련 경험: {experience}\n",
    "---\n",
    "\"\"\".strip()"
   ]
  },
  {
   "cell_type": "code",
   "execution_count": 34,
   "id": "43117c4d-1fd1-403d-8828-e77aa348954c",
   "metadata": {},
   "outputs": [],
   "source": [
    "prompt = prompt_template_v3.format(\n",
    "    company = example[\"company\"],\n",
    "    position = example[\"position\"],\n",
    "    max_length = example[\"max_length\"]// 2, # 글자수 → 단어 수로 변경\n",
    "    question = example[\"question\"],\n",
    "    experience = example[\"experience\"]\n",
    ")"
   ]
  },
  {
   "cell_type": "code",
   "execution_count": 36,
   "id": "2534dbb3-6d3e-4390-b8fd-cca676217365",
   "metadata": {},
   "outputs": [
    {
     "name": "stdout",
     "output_type": "stream",
     "text": [
      "**열정적인 리더십으로 동료들을 이끄는 경험**\n",
      "\n",
      "저는 대학교 3학년 때 축구부 주장을 맡은 적이 있습니다. 우리 팀이 함께 노력해야 할 목표는 총장배 대회에서 우승하는 것이었습니다. 이를 위해 많은 어려움을 극복해야 했는데, 그중에서도 가장 큰 어려움은 주전 선수들의 부상으로 인한 상황이었습니다.\n",
      "\n",
      "**팀워크로 어려움 극복**\n",
      "\n",
      "부상으로 주전 선수들이 팀에 부족함을 초래했을 때, 저는 팀원들과 함께 협력하고 힘을 합쳐 어려움을 극복해 나가기로 했습니다. 체육 교수님과 함께 전략을 소통하고 훈련 계획을 세우며, 팀원들에게 자신감을 심어 주었습니다. \n",
      "\n",
      "**결과를 이끈 리더십**\n",
      "\n",
      "결과적으로, 우리 팀은 8강까지 진출하며 뜻하던 성과를 이루었습니다. 이 경험을 통해 저는 어려운 상황에서도 열정과 리더십을 발휘하여 팀을 이끌어 나갈 수 있는 능력을 키웠습니다. \n",
      "\n",
      "**LG Uplus 기업 영입의팀에서의 역할**\n",
      "\n",
      "LG Uplus의 기업부문 B2B 국내영업팀에서도 이와 같은 열정과 리더십을 발휘하며, 팀원들과 협력하여 성공을 이루는 과정에 기여하고 싶습니다. 제 경험을 바탕으로 LG Uplus와 함께 미래를 선도하는 기업문화를 만들어 나가고 싶습니다.\n",
      "\n",
      "공백 포함 글자 수: 593\n"
     ]
    }
   ],
   "source": [
    "response = request_chat_completion(prompt, stream=True)\n",
    "message = print_streaming_response_console(response)\n",
    "print(f\"\\n\\n공백 포함 글자 수: {len(message)}\")"
   ]
  },
  {
   "cell_type": "code",
   "execution_count": null,
   "id": "a8738929-0a9f-4823-86ef-743c55bac3c7",
   "metadata": {},
   "outputs": [],
   "source": []
  }
 ],
 "metadata": {
  "kernelspec": {
   "display_name": "Python 3 (ipykernel)",
   "language": "python",
   "name": "python3"
  },
  "language_info": {
   "codemirror_mode": {
    "name": "ipython",
    "version": 3
   },
   "file_extension": ".py",
   "mimetype": "text/x-python",
   "name": "python",
   "nbconvert_exporter": "python",
   "pygments_lexer": "ipython3",
   "version": "3.12.2"
  }
 },
 "nbformat": 4,
 "nbformat_minor": 5
}
