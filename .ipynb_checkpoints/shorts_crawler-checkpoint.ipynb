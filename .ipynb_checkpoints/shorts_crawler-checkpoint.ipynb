{
 "cells": [
  {
   "cell_type": "markdown",
   "id": "d8b770df-a5c3-4cef-9f64-e2f0e6cb8770",
   "metadata": {},
   "source": [
    "## 의존성 설치"
   ]
  },
  {
   "cell_type": "code",
   "execution_count": 1,
   "id": "866c50d9-7ba0-4e5d-bfb7-d708dab1e51c",
   "metadata": {},
   "outputs": [
    {
     "name": "stdout",
     "output_type": "stream",
     "text": [
      "Requirement already satisfied: requests in c:\\users\\littlefox\\appdata\\local\\programs\\python\\python312\\lib\\site-packages (2.31.0)\n",
      "Requirement already satisfied: beautifulsoup4 in c:\\users\\littlefox\\appdata\\local\\programs\\python\\python312\\lib\\site-packages (4.12.3)\n",
      "Collecting lxml\n",
      "  Downloading lxml-5.1.0-cp312-cp312-win_amd64.whl.metadata (3.6 kB)\n",
      "Requirement already satisfied: charset-normalizer<4,>=2 in c:\\users\\littlefox\\appdata\\local\\programs\\python\\python312\\lib\\site-packages (from requests) (3.3.2)\n",
      "Requirement already satisfied: idna<4,>=2.5 in c:\\users\\littlefox\\appdata\\local\\programs\\python\\python312\\lib\\site-packages (from requests) (3.6)\n",
      "Requirement already satisfied: urllib3<3,>=1.21.1 in c:\\users\\littlefox\\appdata\\local\\programs\\python\\python312\\lib\\site-packages (from requests) (2.2.1)\n",
      "Requirement already satisfied: certifi>=2017.4.17 in c:\\users\\littlefox\\appdata\\local\\programs\\python\\python312\\lib\\site-packages (from requests) (2024.2.2)\n",
      "Requirement already satisfied: soupsieve>1.2 in c:\\users\\littlefox\\appdata\\local\\programs\\python\\python312\\lib\\site-packages (from beautifulsoup4) (2.5)\n",
      "Downloading lxml-5.1.0-cp312-cp312-win_amd64.whl (3.9 MB)\n",
      "   ---------------------------------------- 0.0/3.9 MB ? eta -:--:--\n",
      "   ---------------------------------------- 0.0/3.9 MB 991.0 kB/s eta 0:00:04\n",
      "   ----- ---------------------------------- 0.5/3.9 MB 5.6 MB/s eta 0:00:01\n",
      "   ------------- -------------------------- 1.3/3.9 MB 9.4 MB/s eta 0:00:01\n",
      "   ------------------------- -------------- 2.5/3.9 MB 13.1 MB/s eta 0:00:01\n",
      "   ---------------------------------------  3.9/3.9 MB 16.6 MB/s eta 0:00:01\n",
      "   ---------------------------------------- 3.9/3.9 MB 16.7 MB/s eta 0:00:00\n",
      "Installing collected packages: lxml\n",
      "Successfully installed lxml-5.1.0\n"
     ]
    }
   ],
   "source": [
    "!pip install requests beautifulsoup4 lxml"
   ]
  },
  {
   "cell_type": "code",
   "execution_count": 2,
   "id": "294b1d18-daf7-4fcc-84cc-1618d7e8af7d",
   "metadata": {},
   "outputs": [],
   "source": [
    "import requests\n",
    "from bs4 import BeautifulSoup"
   ]
  },
  {
   "cell_type": "code",
   "execution_count": 3,
   "id": "b75858c2-e243-4bb2-ad29-7cc2b3777888",
   "metadata": {},
   "outputs": [],
   "source": [
    "url = \"https://n.news.naver.com/entertain/now/article/030/0003182959\""
   ]
  },
  {
   "cell_type": "code",
   "execution_count": 4,
   "id": "44f506c5-6e1a-4187-b4e4-80aeaaefa05d",
   "metadata": {},
   "outputs": [],
   "source": [
    "response = requests.get(url)"
   ]
  },
  {
   "cell_type": "code",
   "execution_count": 6,
   "id": "6abc9b6a-513d-42fb-b6c3-59927f7a9f3d",
   "metadata": {},
   "outputs": [],
   "source": [
    "soup = BeautifulSoup(response.text, \"lxml\")"
   ]
  },
  {
   "cell_type": "code",
   "execution_count": 21,
   "id": "52691f69-7a14-4b28-b9ce-ac8009e2faa3",
   "metadata": {},
   "outputs": [],
   "source": [
    "article = soup.find(\"article\", class_=\"_article_content\").text.strip()"
   ]
  },
  {
   "cell_type": "code",
   "execution_count": 22,
   "id": "6607b693-4d94-478d-bbf1-e62df94d75dd",
   "metadata": {},
   "outputs": [
    {
     "name": "stdout",
     "output_type": "stream",
     "text": [
      "사진=BH엔터테인먼트배우 한효주가 선한 영향력을 전파했다.한효주는 22일, 자신의 생일을 맞아 서울 사회복지공동모금회(이하 서울 사랑의열매)에 5천만원을 기탁하며 아름다운 기부를 실천했다. 한효주는 지난 2022년 사랑의열매 측에 1억 원 이상을 기부하며 아너 소사이어티 회원으로 이름을 올리기도 했다.한효주는 기부를 통해 기초생계와 교육자립 지원에 뜻을 함께하며 영양 및 급식지원 뿐 아니라 정보기술격차 해소 지원 등 주위 이웃에게 희망을 나누는 활동에 앞장서 왔다.이번 기부금은 미혼모 시설 및 엄마와 자녀의 건강을 위한 새로운 교육 프로그램에 사용될 예정이다.이처럼 꾸준하게 주변에 온정을 더해온 한효주는 아름다운 재단에 ‘효주 기금’을 개설해 어르신 생계비 지원 사업과 소외아동청소년 문화체험 지원 사업에 힘을 보태왔다.또한 강원 산불 피해 복구를 위한 기부, 예능 프로그램 ‘서울 촌놈’ 출연료를 고향인 청주시 새생명 지원센터에 기부, 코로나19 극복 재난구호 성금, 집중 호우 피해 기부 등 실질적으로 도움이 필요한 곳에 마음을 보태며 나눔 문화 확산에 기여하고 있다.한편, 한효주는 지난해 ‘무빙’과 ‘독전2’, ‘어쩌다 사장’ 시즌3으로 시청자들과 만났고, 올해 디즈니+의 시리즈 ‘지배종’에서 성공한 여성 기업가 윤자유 역으로 돌아올 예정이다.\n"
     ]
    }
   ],
   "source": [
    "print(article)"
   ]
  },
  {
   "cell_type": "code",
   "execution_count": 28,
   "id": "cc3c60c5-1314-4bf0-81d6-10c590489921",
   "metadata": {},
   "outputs": [],
   "source": [
    "def crawl_naver_entertainment(url):\n",
    "    response = requests.get(url)\n",
    "    soup = BeautifulSoup(response.text, \"lxml\")\n",
    "    article = soup.find(\"div\", class_=\"article_body\").text.strip()\n",
    "    return article   "
   ]
  },
  {
   "cell_type": "code",
   "execution_count": 29,
   "id": "0ba347a5-66bf-4057-94a0-1cf17473693d",
   "metadata": {},
   "outputs": [
    {
     "data": {
      "text/plain": [
       "'사진=BH엔터테인먼트배우 한효주가 선한 영향력을 전파했다.한효주는 22일, 자신의 생일을 맞아 서울 사회복지공동모금회(이하 서울 사랑의열매)에 5천만원을 기탁하며 아름다운 기부를 실천했다. 한효주는 지난 2022년 사랑의열매 측에 1억 원 이상을 기부하며 아너 소사이어티 회원으로 이름을 올리기도 했다.한효주는 기부를 통해 기초생계와 교육자립 지원에 뜻을 함께하며 영양 및 급식지원 뿐 아니라 정보기술격차 해소 지원 등 주위 이웃에게 희망을 나누는 활동에 앞장서 왔다.이번 기부금은 미혼모 시설 및 엄마와 자녀의 건강을 위한 새로운 교육 프로그램에 사용될 예정이다.이처럼 꾸준하게 주변에 온정을 더해온 한효주는 아름다운 재단에 ‘효주 기금’을 개설해 어르신 생계비 지원 사업과 소외아동청소년 문화체험 지원 사업에 힘을 보태왔다.또한 강원 산불 피해 복구를 위한 기부, 예능 프로그램 ‘서울 촌놈’ 출연료를 고향인 청주시 새생명 지원센터에 기부, 코로나19 극복 재난구호 성금, 집중 호우 피해 기부 등 실질적으로 도움이 필요한 곳에 마음을 보태며 나눔 문화 확산에 기여하고 있다.한편, 한효주는 지난해 ‘무빙’과 ‘독전2’, ‘어쩌다 사장’ 시즌3으로 시청자들과 만났고, 올해 디즈니+의 시리즈 ‘지배종’에서 성공한 여성 기업가 윤자유 역으로 돌아올 예정이다.'"
      ]
     },
     "execution_count": 29,
     "metadata": {},
     "output_type": "execute_result"
    }
   ],
   "source": [
    "crawl_naver_entertainment(url)"
   ]
  },
  {
   "cell_type": "code",
   "execution_count": null,
   "id": "73741d4c-0fb8-4760-85fe-d780e75180db",
   "metadata": {},
   "outputs": [],
   "source": []
  }
 ],
 "metadata": {
  "kernelspec": {
   "display_name": "Python 3 (ipykernel)",
   "language": "python",
   "name": "python3"
  },
  "language_info": {
   "codemirror_mode": {
    "name": "ipython",
    "version": 3
   },
   "file_extension": ".py",
   "mimetype": "text/x-python",
   "name": "python",
   "nbconvert_exporter": "python",
   "pygments_lexer": "ipython3",
   "version": "3.12.2"
  }
 },
 "nbformat": 4,
 "nbformat_minor": 5
}
