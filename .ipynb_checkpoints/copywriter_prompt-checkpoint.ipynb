{
 "cells": [
  {
   "cell_type": "code",
   "execution_count": 1,
   "id": "b7d57e5b-8891-4d1e-8823-82f47b8426ab",
   "metadata": {},
   "outputs": [],
   "source": [
    "import openai\n",
    "import os\n",
    "\n",
    "openai.api_key = os.environ.get(\"OPENAI_API_KEY\")"
   ]
  },
  {
   "cell_type": "code",
   "execution_count": 2,
   "id": "daf4bd0d-3e33-40c7-b56c-1ad97bc201c7",
   "metadata": {},
   "outputs": [],
   "source": [
    "def request_chat_completion(\n",
    "    prompt, \n",
    "    system_role=\"당신은 유용한 도우미입니다.\",\n",
    "    model=\"gpt-3.5-turbo\",\n",
    "    stream=False\n",
    "):\n",
    "    messages = [\n",
    "        {\"role\": \"system\", \"content\": system_role},\n",
    "        {\"role\": \"user\", \"content\": prompt}\n",
    "    ]\n",
    "    response = openai.chat.completions.create(\n",
    "        model=model,\n",
    "        messages=messages,\n",
    "        stream=stream\n",
    "    )\n",
    "    return response"
   ]
  },
  {
   "cell_type": "code",
   "execution_count": 3,
   "id": "45ab896a-a46c-4565-8f8c-9599edd3bd84",
   "metadata": {},
   "outputs": [],
   "source": [
    "def print_streaming_response(response):\n",
    "    for chunk in response:\n",
    "        delta = chunk.choices[0].delta\n",
    "        if hasattr(delta, \"content\") and delta.content is not None:\n",
    "            print(delta.content, end=\"\")\n",
    "        else:\n",
    "            break"
   ]
  },
  {
   "cell_type": "code",
   "execution_count": 4,
   "id": "6f466697-e3ae-45ce-93ff-a920ce801a8b",
   "metadata": {},
   "outputs": [
    {
     "name": "stdout",
     "output_type": "stream",
     "text": [
      "안녕하세요! 무엇을 도와드릴까요?"
     ]
    }
   ],
   "source": [
    "response = request_chat_completion(\"안녕하세요!\", stream=True)\n",
    "print_streaming_response(response)"
   ]
  },
  {
   "cell_type": "markdown",
   "id": "b300d9b5-d672-48fb-8d8f-1ef02a45c6a7",
   "metadata": {},
   "source": [
    "## 프롬프트 엔지니어링"
   ]
  },
  {
   "cell_type": "code",
   "execution_count": 5,
   "id": "a7812c2a-84bf-46d1-a71e-eb3784960ab8",
   "metadata": {},
   "outputs": [
    {
     "name": "stdout",
     "output_type": "stream",
     "text": [
      "1. 카누: 매일의 힘든 일상에서 달콤한 휴식을 즐기세요. 언제나 카누와 함께라면, 어떤 일도 꿈처럼 달콤할 거예요. ☕️💫 #카누 #커피브레이크\n",
      "\n",
      "2. 카누와 함께하는 아침은 더욱 특별해요. 아침의 시작을 에너지 넘치는 컵 한 잔과 함께 즐겨보세요. 🌞☕️ #카누 #아침일상\n",
      "\n",
      "3. 일상에 활력을 불어넣는 비밀은 바로 카누 커피믹스! 달콤한 한 잔으로 하루를 활기차게 시작해보세요. 💪☕️ #카누 #마음속힐링"
     ]
    }
   ],
   "source": [
    "prompt = \"'카누'라는 커피믹스 브랜드의 SNS 마케팅을 위한 카피를 3개 생성해줘\"\n",
    "\n",
    "response = request_chat_completion(prompt, stream=True)\n",
    "print_streaming_response(response)"
   ]
  },
  {
   "cell_type": "code",
   "execution_count": 6,
   "id": "a9fdbfc2-7b7b-4401-8daa-8dfdc9dc9db2",
   "metadata": {},
   "outputs": [
    {
     "name": "stdout",
     "output_type": "stream",
     "text": [
      "1. \"매일 루틴에 포근한 한 잔을 더하면, 하루가 더욱 완벽해집니다. 카누와 함께 특별한 순간을 누리세요. ☕️✨ #카누 #카누커피 #특별한순간\"\n",
      "\n",
      "2. \"카누는 더 부드럽고 풍부한 맛을 선사합니다. 이번 주말, 편안한 분위기 속에서 카누와 함께 휴식을 취해보세요. ☕️🌿 #카누 #카누커피 #부드러운맛\"\n",
      "\n",
      "3. \"모든 순간이 더 따뜻해지는 비밀은 바로 카누에서 찾을 수 있습니다. 새롭고 신선한 시작을 위해, 카누와 함께 달콤한 하루를 시작해보세요. ☕️🌞 #카누 #카누커피 #달콤한하루\""
     ]
    }
   ],
   "source": [
    "prompt = \"'카누'라는 커피믹스 브랜드의 SNS 마케팅을 위한 카피를 3개 생성해줘\"\n",
    "system_role = \"당신은 전문 카피라이터입니다.\"\n",
    "\n",
    "response = request_chat_completion(prompt, stream=True)\n",
    "print_streaming_response(response)"
   ]
  },
  {
   "cell_type": "code",
   "execution_count": 11,
   "id": "cff0422c-5217-40ba-a4df-a2873eff03db",
   "metadata": {},
   "outputs": [],
   "source": [
    "prompt_template = \"\"\"\n",
    "제품 혹은 브랜드를 SNS에 광고하기 위한 문구를 생성해주세요.\n",
    "자극적이고 창의적으로 작성해주세요.\n",
    "명사 위주로 간결하게 작성해주세요.\n",
    "---\n",
    "제품명 : {product_name}\n",
    "제품설명 : {product_desc}\n",
    "---\n",
    "\"\"\".strip()"
   ]
  },
  {
   "cell_type": "code",
   "execution_count": 12,
   "id": "543fb5ee-03a3-4074-83c3-8b86830b9291",
   "metadata": {},
   "outputs": [],
   "source": [
    "product_name = \"카누\"\n",
    "product_desc = \"집에서도 카페 맛을 내는 아메리카노 커피믹스\"\n",
    "prompt = prompt_template.format(\n",
    "    product_name = product_name,\n",
    "    product_desc = product_desc\n",
    ")"
   ]
  },
  {
   "cell_type": "code",
   "execution_count": 13,
   "id": "d8251b3f-3f16-4ab0-afa5-d0487794fcce",
   "metadata": {},
   "outputs": [
    {
     "name": "stdout",
     "output_type": "stream",
     "text": [
      "제품 혹은 브랜드를 SNS에 광고하기 위한 문구를 생성해주세요.\n",
      "자극적이고 창의적으로 작성해주세요.\n",
      "명사 위주로 간결하게 작성해주세요.\n",
      "---\n",
      "제품명 : 카누\n",
      "제품설명 : 집에서도 카페 맛을 내는 아메리카노 커피믹스\n",
      "---\n"
     ]
    }
   ],
   "source": [
    "print(prompt)"
   ]
  },
  {
   "cell_type": "code",
   "execution_count": 14,
   "id": "33f0343b-0fa9-48f9-9f66-cfcc5a77b49c",
   "metadata": {},
   "outputs": [
    {
     "name": "stdout",
     "output_type": "stream",
     "text": [
      "\"집콕도 행복하게, 카누와 함께하는 카페 인생☕️\""
     ]
    }
   ],
   "source": [
    "response = request_chat_completion(\n",
    "    prompt,\n",
    "    system_role = system_role,\n",
    "    stream=True)\n",
    "print_streaming_response(response)"
   ]
  },
  {
   "cell_type": "code",
   "execution_count": 15,
   "id": "10fb9d6f-8c0c-4e9e-a893-652d0ff4a126",
   "metadata": {},
   "outputs": [],
   "source": [
    "prompt_template_v2 = \"\"\"\n",
    "제품 혹은 브랜드를 SNS에 광고하기 위한 문구를 {num}개 생성해주세요.\n",
    "자극적이고 창의적으로 작성해주세요.\n",
    "명사 위주로 간결하게 작성해주세요.\n",
    "반드시 {max_length} 단어 이내로 작성해주세요.\n",
    "---\n",
    "제품명 : {product_name}\n",
    "제품설명 : {product_desc}\n",
    "---\n",
    "\"\"\".strip()"
   ]
  },
  {
   "cell_type": "code",
   "execution_count": 18,
   "id": "b2435098-56c4-43e0-adb9-7ea06535efaf",
   "metadata": {},
   "outputs": [],
   "source": [
    "product_name = \"카누\"\n",
    "product_desc = \"집에서도 카페 맛을 내는 아메리카노 커피믹스\"\n",
    "num = 7\n",
    "max_length = 5\n",
    "prompt = prompt_template_v2.format(\n",
    "    product_name = product_name,\n",
    "    product_desc = product_desc,\n",
    "    num = num,\n",
    "    max_length = max_length\n",
    ")"
   ]
  },
  {
   "cell_type": "code",
   "execution_count": 19,
   "id": "57a7a951-afc4-422f-8675-298263b4016b",
   "metadata": {},
   "outputs": [
    {
     "name": "stdout",
     "output_type": "stream",
     "text": [
      "제품 혹은 브랜드를 SNS에 광고하기 위한 문구를 7개 생성해주세요.\n",
      "자극적이고 창의적으로 작성해주세요.\n",
      "명사 위주로 간결하게 작성해주세요.\n",
      "반드시 5 단어 이내로 작성해주세요.\n",
      "---\n",
      "제품명 : 카누\n",
      "제품설명 : 집에서도 카페 맛을 내는 아메리카노 커피믹스\n",
      "---\n"
     ]
    }
   ],
   "source": [
    "print(prompt)"
   ]
  },
  {
   "cell_type": "code",
   "execution_count": 20,
   "id": "e9796e8c-c7d7-4a20-8c2f-5f19e7513d4d",
   "metadata": {},
   "outputs": [
    {
     "name": "stdout",
     "output_type": "stream",
     "text": [
      "1. 홈카페 신드롬의 주범, 카누.\n",
      "2. 아메리카노의 완벽한 파트너, 카누.\n",
      "3. 즉석에서 탄생하는 신비로운 맛, 카누.\n",
      "4. 카페급 맛을 집에서 즐기는 법, 카누.\n",
      "5. 자신만의 카페를 만들어보세요, 카누.\n",
      "6. 카페에서 온 소리가 담긴 커피, 카누.\n",
      "7. 누구나 바로 즐길 수 있는 카페의 비밀, 카누."
     ]
    }
   ],
   "source": [
    "response = request_chat_completion(\n",
    "    prompt,\n",
    "    system_role = system_role,\n",
    "    stream=True)\n",
    "print_streaming_response(response)"
   ]
  },
  {
   "cell_type": "code",
   "execution_count": 21,
   "id": "9c8ec9d8-12f6-4ffd-bd46-ad08631853d4",
   "metadata": {},
   "outputs": [],
   "source": [
    "prompt_template_v3 = \"\"\"\n",
    "제품 혹은 브랜드를 SNS에 광고하기 위한 문구를 {num}개 생성해주세요.\n",
    "자극적이고 창의적으로 작성해주세요.\n",
    "명사 위주로 간결하게 작성해주세요.\n",
    "반드시 {max_length} 단어 이내로 작성해주세요.\n",
    "키워드가 주어질 경우, 반드시 키워드 중 하나를 포함해야 합니다.\n",
    "---\n",
    "제품명 : {product_name}\n",
    "제품설명 : {product_desc}\n",
    "키워드: {keywords}\n",
    "\n",
    "\n",
    "---\n",
    "\"\"\".strip()"
   ]
  },
  {
   "cell_type": "code",
   "execution_count": 22,
   "id": "ad4bacb9-6213-4717-836d-d77224927040",
   "metadata": {},
   "outputs": [],
   "source": [
    "product_name = \"카누\"\n",
    "product_desc = \"집에서도 카페 맛을 내는 아메리카노 커피믹스\"\n",
    "num = 7\n",
    "max_length = 5\n",
    "keywords = [\"브라질\", \"향기\", \"공유\"]\n",
    "prompt = prompt_template_v3.format(\n",
    "    product_name = product_name,\n",
    "    product_desc = product_desc,\n",
    "    num = num,\n",
    "    max_length = max_length,\n",
    "    keywords = keywords\n",
    ")"
   ]
  },
  {
   "cell_type": "code",
   "execution_count": 23,
   "id": "ec064582-78c8-4dce-8521-ae4c5117fe5b",
   "metadata": {},
   "outputs": [
    {
     "name": "stdout",
     "output_type": "stream",
     "text": [
      "1. 브라질 향기가 집 안에\n",
      "2. 공유하는 맛, 카누 아메리카노\n",
      "3. 카페급 맛, 집에서 완성\n",
      "4. 집에서 즐기는 카페 느낌\n",
      "5. 브라질 풍요로움 한 잔\n",
      "6. 공유할 수 있는 특별한 맛\n",
      "7. 아로마로 즐기는 휴식"
     ]
    }
   ],
   "source": [
    "response = request_chat_completion(\n",
    "    prompt,\n",
    "    system_role = system_role,\n",
    "    stream=True)\n",
    "print_streaming_response(response)"
   ]
  },
  {
   "cell_type": "code",
   "execution_count": 24,
   "id": "3efa9650-1b06-46d8-bfad-313501d6050e",
   "metadata": {},
   "outputs": [],
   "source": [
    "prompt_template_v4 = \"\"\"\n",
    "제품 혹은 브랜드를 SNS에 광고하기 위한 문구를 {num}개 생성해주세요.\n",
    "자극적이고 창의적으로 작성해주세요.\n",
    "명사 위주로 간결하게 작성해주세요.\n",
    "반드시 {max_length} 단어 이내로 작성해주세요.\n",
    "키워드가 주어질 경우, 반드시 키워드 중 하나를 포함해야 합니다.\n",
    "이모지를 적절하게 사용해주세요.\n",
    "---\n",
    "제품명 : {product_name}\n",
    "제품설명 : {product_desc}\n",
    "키워드: {keywords}\n",
    "\n",
    "\n",
    "---\n",
    "\"\"\".strip()"
   ]
  },
  {
   "cell_type": "code",
   "execution_count": 27,
   "id": "947df45b-480d-48ac-bc22-f454f849a380",
   "metadata": {},
   "outputs": [],
   "source": [
    "product_name = \"카누\"\n",
    "product_desc = \"집에서도 카페 맛을 내는 아메리카노 커피믹스\"\n",
    "num = 10\n",
    "max_length = 8\n",
    "keywords = [\"브라질\", \"향기\", \"공유\"]\n",
    "prompt = prompt_template_v4.format(\n",
    "    product_name = product_name,\n",
    "    product_desc = product_desc,\n",
    "    num = num,\n",
    "    max_length = max_length,\n",
    "    keywords = keywords\n",
    ")"
   ]
  },
  {
   "cell_type": "code",
   "execution_count": 28,
   "id": "aa46229b-3ddc-4625-a87b-e74747f13314",
   "metadata": {},
   "outputs": [
    {
     "name": "stdout",
     "output_type": "stream",
     "text": [
      "1. 지친 하루를 브라질 향기로 한 모금 🌺\n",
      "2. 카페에서 느끼는 행복, 집에서 공유하세요 ☕\n",
      "3. 집콕 불러 오는 로맨틱한 아메리카노 시간 💑\n",
      "4. 카페 느낌 가득! 집에서도 특별한 한잔 🏡\n",
      "5. 브라질 풍경을 떠올리는 맛있는 커피 시간 🌴\n",
      "6. 향기로운 아메리카노 한 잔으로 집콕 즐기기 🏠\n",
      "7. 공유하고 싶은 특별한 순간, 카누와 함께 🌟\n",
      "8. 카페급 향기, 편안한 집에서의 특별한 시간 ✨\n",
      "9. 집에서도 풍기는 러브리한 브라질 아메리카노 💌\n",
      "10. 브라질 에스프레소로 즐기는 달콤한 휴식 시간 🍫"
     ]
    }
   ],
   "source": [
    "response = request_chat_completion(\n",
    "    prompt,\n",
    "    system_role = system_role,\n",
    "    stream=True)\n",
    "print_streaming_response(response)"
   ]
  }
 ],
 "metadata": {
  "kernelspec": {
   "display_name": "Python 3 (ipykernel)",
   "language": "python",
   "name": "python3"
  },
  "language_info": {
   "codemirror_mode": {
    "name": "ipython",
    "version": 3
   },
   "file_extension": ".py",
   "mimetype": "text/x-python",
   "name": "python",
   "nbconvert_exporter": "python",
   "pygments_lexer": "ipython3",
   "version": "3.12.2"
  }
 },
 "nbformat": 4,
 "nbformat_minor": 5
}
