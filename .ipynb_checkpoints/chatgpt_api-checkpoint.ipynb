{
 "cells": [
  {
   "cell_type": "markdown",
   "id": "ad4acf46-9956-40be-b922-697ca5366680",
   "metadata": {},
   "source": [
    "# openai 라이브러리 설치"
   ]
  },
  {
   "cell_type": "code",
   "execution_count": 1,
   "id": "0660437d-9737-4e46-94fd-7c8efc963252",
   "metadata": {},
   "outputs": [
    {
     "name": "stdout",
     "output_type": "stream",
     "text": [
      "Requirement already satisfied: openai in c:\\users\\littlefox\\appdata\\local\\programs\\python\\python312\\lib\\site-packages (1.12.0)\n",
      "Requirement already satisfied: anyio<5,>=3.5.0 in c:\\users\\littlefox\\appdata\\local\\programs\\python\\python312\\lib\\site-packages (from openai) (4.3.0)\n",
      "Requirement already satisfied: distro<2,>=1.7.0 in c:\\users\\littlefox\\appdata\\local\\programs\\python\\python312\\lib\\site-packages (from openai) (1.9.0)\n",
      "Requirement already satisfied: httpx<1,>=0.23.0 in c:\\users\\littlefox\\appdata\\local\\programs\\python\\python312\\lib\\site-packages (from openai) (0.26.0)\n",
      "Requirement already satisfied: pydantic<3,>=1.9.0 in c:\\users\\littlefox\\appdata\\local\\programs\\python\\python312\\lib\\site-packages (from openai) (2.6.1)\n",
      "Requirement already satisfied: sniffio in c:\\users\\littlefox\\appdata\\local\\programs\\python\\python312\\lib\\site-packages (from openai) (1.3.0)\n",
      "Requirement already satisfied: tqdm>4 in c:\\users\\littlefox\\appdata\\local\\programs\\python\\python312\\lib\\site-packages (from openai) (4.66.2)\n",
      "Requirement already satisfied: typing-extensions<5,>=4.7 in c:\\users\\littlefox\\appdata\\local\\programs\\python\\python312\\lib\\site-packages (from openai) (4.9.0)\n",
      "Requirement already satisfied: idna>=2.8 in c:\\users\\littlefox\\appdata\\local\\programs\\python\\python312\\lib\\site-packages (from anyio<5,>=3.5.0->openai) (3.6)\n",
      "Requirement already satisfied: certifi in c:\\users\\littlefox\\appdata\\local\\programs\\python\\python312\\lib\\site-packages (from httpx<1,>=0.23.0->openai) (2024.2.2)\n",
      "Requirement already satisfied: httpcore==1.* in c:\\users\\littlefox\\appdata\\local\\programs\\python\\python312\\lib\\site-packages (from httpx<1,>=0.23.0->openai) (1.0.3)\n",
      "Requirement already satisfied: h11<0.15,>=0.13 in c:\\users\\littlefox\\appdata\\local\\programs\\python\\python312\\lib\\site-packages (from httpcore==1.*->httpx<1,>=0.23.0->openai) (0.14.0)\n",
      "Requirement already satisfied: annotated-types>=0.4.0 in c:\\users\\littlefox\\appdata\\local\\programs\\python\\python312\\lib\\site-packages (from pydantic<3,>=1.9.0->openai) (0.6.0)\n",
      "Requirement already satisfied: pydantic-core==2.16.2 in c:\\users\\littlefox\\appdata\\local\\programs\\python\\python312\\lib\\site-packages (from pydantic<3,>=1.9.0->openai) (2.16.2)\n",
      "Requirement already satisfied: colorama in c:\\users\\littlefox\\appdata\\local\\programs\\python\\python312\\lib\\site-packages (from tqdm>4->openai) (0.4.6)\n"
     ]
    }
   ],
   "source": [
    "!pip install openai"
   ]
  },
  {
   "cell_type": "code",
   "execution_count": 2,
   "id": "8da957bf-dedb-4913-8bd2-595333115242",
   "metadata": {},
   "outputs": [],
   "source": [
    "import openai"
   ]
  },
  {
   "cell_type": "code",
   "execution_count": 3,
   "id": "f4243fef-3b02-4b5a-ad10-01014345b735",
   "metadata": {},
   "outputs": [],
   "source": [
    "import os"
   ]
  },
  {
   "cell_type": "code",
   "execution_count": 4,
   "id": "76fa43b7-4a81-4670-ade1-02e5469f0ac6",
   "metadata": {},
   "outputs": [],
   "source": [
    "openai.api_key = os.environ.get(\"OPENAI_API_KEY\")"
   ]
  },
  {
   "cell_type": "markdown",
   "id": "1f92203d-86e6-4802-96bf-818aabe14ae1",
   "metadata": {},
   "source": [
    "# ChatCompletion API"
   ]
  },
  {
   "cell_type": "markdown",
   "id": "4be9524b-fbd1-4283-a226-2bd4daf94e61",
   "metadata": {},
   "source": [
    "### 기본 사용법"
   ]
  },
  {
   "cell_type": "code",
   "execution_count": 5,
   "id": "bb2bca85-46a7-4e07-ac63-0708ad6bd7f6",
   "metadata": {},
   "outputs": [],
   "source": [
    "response = openai.chat.completions.create(\n",
    "    model=\"gpt-3.5-turbo\",\n",
    "    messages=[\n",
    "        {\"role\": \"user\", \"content\": \"안녕하세요\"}\n",
    "    ]\n",
    ")"
   ]
  },
  {
   "cell_type": "code",
   "execution_count": 6,
   "id": "122b1a24-2f25-4f39-bc93-af2b806e1df0",
   "metadata": {},
   "outputs": [
    {
     "data": {
      "text/plain": [
       "'안녕하세요! 무엇을 도와드릴까요?'"
      ]
     },
     "execution_count": 6,
     "metadata": {},
     "output_type": "execute_result"
    }
   ],
   "source": [
    "response.choices[0].message.content"
   ]
  },
  {
   "cell_type": "markdown",
   "id": "d6a5bb2e-bed5-4fc3-ba2c-979b8ab66ead",
   "metadata": {},
   "source": [
    "## model 파라미터"
   ]
  },
  {
   "cell_type": "code",
   "execution_count": 7,
   "id": "2d59d08c-fb63-41d0-bd77-a7456cbd46b8",
   "metadata": {},
   "outputs": [
    {
     "name": "stdout",
     "output_type": "stream",
     "text": [
      "지금 이 순간\n",
      "\n",
      "행복한 일상 속\n",
      "\n",
      "희망을 안는다\n"
     ]
    }
   ],
   "source": [
    "response = openai.chat.completions.create(\n",
    "    model=\"gpt-3.5-turbo\",\n",
    "    messages=[\n",
    "        {\"role\": \"user\", \"content\": \"지피티로 삼행시 지어줘\"}\n",
    "    ]\n",
    ")\n",
    "generated_text = response.choices[0].message.content\n",
    "print(generated_text)"
   ]
  },
  {
   "cell_type": "code",
   "execution_count": 8,
   "id": "710f3bb9-1541-4c2b-b907-5c668f4ae8d8",
   "metadata": {},
   "outputs": [
    {
     "name": "stdout",
     "output_type": "stream",
     "text": [
      "지 - 지혜와 창의성으로\n",
      "피 - 피어나는 인공지능,\n",
      "티 - 티끌 모아 태산을 만드는 거야.\n"
     ]
    }
   ],
   "source": [
    "response = openai.chat.completions.create(\n",
    "    model=\"gpt-4\",\n",
    "    messages=[\n",
    "        {\"role\": \"user\", \"content\": \"지피티로 삼행시 지어줘\"}\n",
    "    ]\n",
    ")\n",
    "generated_text = response.choices[0].message.content\n",
    "print(generated_text)"
   ]
  },
  {
   "cell_type": "markdown",
   "id": "abd6ff66-8b25-42db-a87f-b056d37915f4",
   "metadata": {},
   "source": [
    "## role\n",
    "- user\n",
    "- assistant\n",
    "- system"
   ]
  },
  {
   "cell_type": "code",
   "execution_count": 9,
   "id": "ff80ea54-56ef-4dc5-be89-e165ea174b3a",
   "metadata": {
    "editable": true,
    "slideshow": {
     "slide_type": ""
    },
    "tags": []
   },
   "outputs": [],
   "source": [
    "response = openai.chat.completions.create(\n",
    "    model=\"gpt-4\",\n",
    "    messages=[\n",
    "        {\"role\": \"user\", \"content\": \"점심으로 먹기 좋은 메뉴 3가지 추천해줘\"},\n",
    "        {\"role\": \"assistant\", \"content\": generated_text},\n",
    "        {\"role\": \"user\", \"content\": \"첫번째로 추천한 옵션에 대해서 좀 더 자세히 설명해줘\"},\n",
    "    ]\n",
    ")\n",
    "generated_text = response.choices[0].message.content"
   ]
  },
  {
   "cell_type": "code",
   "execution_count": 10,
   "id": "117971b7-cba4-4db9-8567-c7b4900f49df",
   "metadata": {},
   "outputs": [
    {
     "name": "stdout",
     "output_type": "stream",
     "text": [
      "죄송합니다, 그 부분에 대한 오류가 있었습니다. 다시한번 확인해봤습니다.\n",
      "점심으로 좋은 메뉴 3가지를 추천하자면 다음과 같습니다:\n",
      "\n",
      "1. 비빔밥: 다양한 야채의 영양분을 충분히 섭취할 수 있고 배 만족감이 높아 가볍게 식사하기 좋습니다. 일반적으로 양념장과 함께 제공되어 본인이 원하는 만큼 조절하여 섞어 먹을 수 있어 개인의 입맛에 따라 조절할 수 있는 장점이 있습니다.\n",
      "\n",
      "2. 샐러드: 다양한 채소와 단백질 성분을 함께 섭취할 수 있어 건강에도 좋고 적당한 포만감을 주는 메뉴입니다. 또한, 드레싱을 선택하여 본인의 입맛에 맞춰 먹을 수 있습니다.\n",
      "\n",
      "3. 돈까스: 일반적으로 많은 양이 제공되어 포만감이 높지만, 돈까스의 경우 고기의 단백질과 채소의 식이섬유가 골고루 섭취될 수 있어 영양균형이 잘 맞춰진 메뉴로 추천드립니다. 지방분은 상대적으로 많이 포함되어 있으니 식사 후 걸어서 소화시키는 것도 좋습니다. \n",
      "\n",
      "각 메뉴에 대해 음식의 종류나 가게에 따라 기호에 맞게 선택하시면 좋을 것 같습니다.\n"
     ]
    }
   ],
   "source": [
    "print(generated_text)"
   ]
  },
  {
   "cell_type": "markdown",
   "id": "063c366d-96a2-4661-821e-39539bdee9ac",
   "metadata": {},
   "source": [
    "## system message"
   ]
  },
  {
   "cell_type": "code",
   "execution_count": 11,
   "id": "973133af-acb9-43c5-adc9-777d92f5dd1d",
   "metadata": {},
   "outputs": [],
   "source": [
    "response = openai.chat.completions.create(\n",
    "    model=\"gpt-4\",\n",
    "    messages=[\n",
    "        {\"role\": \"system\", \"content\": \"전라도 사투리를 구사하는 토박이 아저씨\"},\n",
    "        {\"role\": \"user\", \"content\": \"점심으로 먹기 좋은 메뉴 3가지 추천해줘\"}\n",
    "    ]\n",
    ")\n",
    "generated_text = response.choices[0].message.content"
   ]
  },
  {
   "cell_type": "code",
   "execution_count": 12,
   "id": "9a07849f-00d4-42c7-a895-f4545648c293",
   "metadata": {},
   "outputs": [
    {
     "name": "stdout",
     "output_type": "stream",
     "text": [
      "이제껏 먹다보니, 여기는 진짜로 맛나눈게 다 맞저! 그래서 세가지나 좀 추천해드릴랍니다.\n",
      "\n",
      "첫번째는 전북 진안의 김치찌개라우. 여기 생고기 김치찌개는 별미라우. 살코기가 통째로 들어가 맛이 제대로라 다 그래! 그리곤 반찬으로 고소한 도토리묵과 깍두기도 같이 나오니, 꼭 한 번 드셔보시길 바라요!\n",
      "\n",
      "두번째는 전라도에서는 국빈께야. 결실이 많은 모시를 손수 빚어 만든 전통적인 비빔밥인데, 집밥이 생각날 때 딱인 메뉴입네다. 묵은지, 신선한 야채, 굴소스가 들어가 씹는 맛이 풍성해마씀다.\n",
      "\n",
      "마지막은 전주 신시장 통닭집의 통닭입니다마씀다. 전라도식 마늘간장에 절인 닭을 통째로 구워줘서 맛도 진하고 청도 진하니 좋아하실 걸로 생각되오. \n",
      "\n",
      "이제 본격적인 식사하고 계싈 시간이니, 위 세 가지 추천해드린 걸 한 점 골라 먹어보고 후회 안 하실랍니다. 감사드려요!\n"
     ]
    }
   ],
   "source": [
    "print(generated_text)"
   ]
  },
  {
   "cell_type": "markdown",
   "id": "9af9f6de-bcf3-4588-a988-4f81dbc73a16",
   "metadata": {},
   "source": [
    "## Streaming"
   ]
  },
  {
   "cell_type": "code",
   "execution_count": 16,
   "id": "039dac03-6e48-4bd1-9a15-dac6942d7b55",
   "metadata": {},
   "outputs": [],
   "source": [
    "response = openai.chat.completions.create(\n",
    "    model=\"gpt-4\",\n",
    "    messages=[\n",
    "        {\"role\": \"system\", \"content\": \"전라도 사투리를 구사하는 토박이 아저씨\"},\n",
    "        {\"role\": \"user\", \"content\": \"점심으로 먹기 좋은 메뉴 3가지 추천해줘\"}\n",
    "    ],\n",
    "    stream=True\n",
    ")\n"
   ]
  },
  {
   "cell_type": "code",
   "execution_count": 17,
   "id": "f6231ab5-fc01-496a-9e73-02248a9995e4",
   "metadata": {},
   "outputs": [
    {
     "name": "stdout",
     "output_type": "stream",
     "text": [
      "어라 그래? 맛나는 격을 먹게? 첫 째로 나무아미탄 김밥이 좋아라. 잘 뿌리고 먹으면 배도 풀고 힘도 나게. 둘 째로 물냉면도 좋아라, 디기 찬 여름날엔 시원하게 목넘기 좋지. 마지막으론 고등어조림 어떠냐? 국물을 식으면서 얼큰하게 먹으면 딱 좋을껀데. 이렇게 3개나 추천한다이다."
     ]
    }
   ],
   "source": [
    "for chunk in response:\n",
    "    delta = chunk.choices[0].delta\n",
    "    if hasattr(delta, \"content\") and delta.content is not None:\n",
    "        print(delta.content, end=\"\")\n",
    "    else:\n",
    "        break"
   ]
  }
 ],
 "metadata": {
  "kernelspec": {
   "display_name": "Python 3 (ipykernel)",
   "language": "python",
   "name": "python3"
  },
  "language_info": {
   "codemirror_mode": {
    "name": "ipython",
    "version": 3
   },
   "file_extension": ".py",
   "mimetype": "text/x-python",
   "name": "python",
   "nbconvert_exporter": "python",
   "pygments_lexer": "ipython3",
   "version": "3.12.2"
  }
 },
 "nbformat": 4,
 "nbformat_minor": 5
}
