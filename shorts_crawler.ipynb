{
 "cells": [
  {
   "cell_type": "markdown",
   "id": "d8b770df-a5c3-4cef-9f64-e2f0e6cb8770",
   "metadata": {},
   "source": [
    "## 의존성 설치"
   ]
  },
  {
   "cell_type": "code",
   "execution_count": 1,
   "id": "866c50d9-7ba0-4e5d-bfb7-d708dab1e51c",
   "metadata": {},
   "outputs": [
    {
     "name": "stdout",
     "output_type": "stream",
     "text": [
      "Requirement already satisfied: requests in c:\\users\\littlefox\\appdata\\local\\programs\\python\\python312\\lib\\site-packages (2.31.0)\n",
      "Requirement already satisfied: beautifulsoup4 in c:\\users\\littlefox\\appdata\\local\\programs\\python\\python312\\lib\\site-packages (4.12.3)\n",
      "Collecting lxml\n",
      "  Downloading lxml-5.1.0-cp312-cp312-win_amd64.whl.metadata (3.6 kB)\n",
      "Requirement already satisfied: charset-normalizer<4,>=2 in c:\\users\\littlefox\\appdata\\local\\programs\\python\\python312\\lib\\site-packages (from requests) (3.3.2)\n",
      "Requirement already satisfied: idna<4,>=2.5 in c:\\users\\littlefox\\appdata\\local\\programs\\python\\python312\\lib\\site-packages (from requests) (3.6)\n",
      "Requirement already satisfied: urllib3<3,>=1.21.1 in c:\\users\\littlefox\\appdata\\local\\programs\\python\\python312\\lib\\site-packages (from requests) (2.2.1)\n",
      "Requirement already satisfied: certifi>=2017.4.17 in c:\\users\\littlefox\\appdata\\local\\programs\\python\\python312\\lib\\site-packages (from requests) (2024.2.2)\n",
      "Requirement already satisfied: soupsieve>1.2 in c:\\users\\littlefox\\appdata\\local\\programs\\python\\python312\\lib\\site-packages (from beautifulsoup4) (2.5)\n",
      "Downloading lxml-5.1.0-cp312-cp312-win_amd64.whl (3.9 MB)\n",
      "   ---------------------------------------- 0.0/3.9 MB ? eta -:--:--\n",
      "   ---------------------------------------- 0.0/3.9 MB 991.0 kB/s eta 0:00:04\n",
      "   ----- ---------------------------------- 0.5/3.9 MB 5.6 MB/s eta 0:00:01\n",
      "   ------------- -------------------------- 1.3/3.9 MB 9.4 MB/s eta 0:00:01\n",
      "   ------------------------- -------------- 2.5/3.9 MB 13.1 MB/s eta 0:00:01\n",
      "   ---------------------------------------  3.9/3.9 MB 16.6 MB/s eta 0:00:01\n",
      "   ---------------------------------------- 3.9/3.9 MB 16.7 MB/s eta 0:00:00\n",
      "Installing collected packages: lxml\n",
      "Successfully installed lxml-5.1.0\n"
     ]
    }
   ],
   "source": [
    "!pip install requests beautifulsoup4 lxml"
   ]
  },
  {
   "cell_type": "code",
   "execution_count": 2,
   "id": "294b1d18-daf7-4fcc-84cc-1618d7e8af7d",
   "metadata": {},
   "outputs": [],
   "source": [
    "import requests\n",
    "from bs4 import BeautifulSoup"
   ]
  },
  {
   "cell_type": "code",
   "execution_count": 32,
   "id": "b75858c2-e243-4bb2-ad29-7cc2b3777888",
   "metadata": {},
   "outputs": [],
   "source": [
    "url = \"https://entertain.naver.com/read?oid=144&aid=0000917660\""
   ]
  },
  {
   "cell_type": "code",
   "execution_count": 4,
   "id": "44f506c5-6e1a-4187-b4e4-80aeaaefa05d",
   "metadata": {},
   "outputs": [],
   "source": [
    "response = requests.get(url)"
   ]
  },
  {
   "cell_type": "code",
   "execution_count": 6,
   "id": "6abc9b6a-513d-42fb-b6c3-59927f7a9f3d",
   "metadata": {},
   "outputs": [],
   "source": [
    "soup = BeautifulSoup(response.text, \"lxml\")"
   ]
  },
  {
   "cell_type": "code",
   "execution_count": 21,
   "id": "52691f69-7a14-4b28-b9ce-ac8009e2faa3",
   "metadata": {},
   "outputs": [],
   "source": [
    "article = soup.find(\"article\", class_=\"_article_content\").text.strip()"
   ]
  },
  {
   "cell_type": "code",
   "execution_count": 22,
   "id": "6607b693-4d94-478d-bbf1-e62df94d75dd",
   "metadata": {},
   "outputs": [
    {
     "name": "stdout",
     "output_type": "stream",
     "text": [
      "사진=BH엔터테인먼트배우 한효주가 선한 영향력을 전파했다.한효주는 22일, 자신의 생일을 맞아 서울 사회복지공동모금회(이하 서울 사랑의열매)에 5천만원을 기탁하며 아름다운 기부를 실천했다. 한효주는 지난 2022년 사랑의열매 측에 1억 원 이상을 기부하며 아너 소사이어티 회원으로 이름을 올리기도 했다.한효주는 기부를 통해 기초생계와 교육자립 지원에 뜻을 함께하며 영양 및 급식지원 뿐 아니라 정보기술격차 해소 지원 등 주위 이웃에게 희망을 나누는 활동에 앞장서 왔다.이번 기부금은 미혼모 시설 및 엄마와 자녀의 건강을 위한 새로운 교육 프로그램에 사용될 예정이다.이처럼 꾸준하게 주변에 온정을 더해온 한효주는 아름다운 재단에 ‘효주 기금’을 개설해 어르신 생계비 지원 사업과 소외아동청소년 문화체험 지원 사업에 힘을 보태왔다.또한 강원 산불 피해 복구를 위한 기부, 예능 프로그램 ‘서울 촌놈’ 출연료를 고향인 청주시 새생명 지원센터에 기부, 코로나19 극복 재난구호 성금, 집중 호우 피해 기부 등 실질적으로 도움이 필요한 곳에 마음을 보태며 나눔 문화 확산에 기여하고 있다.한편, 한효주는 지난해 ‘무빙’과 ‘독전2’, ‘어쩌다 사장’ 시즌3으로 시청자들과 만났고, 올해 디즈니+의 시리즈 ‘지배종’에서 성공한 여성 기업가 윤자유 역으로 돌아올 예정이다.\n"
     ]
    }
   ],
   "source": [
    "print(article)"
   ]
  },
  {
   "cell_type": "code",
   "execution_count": 33,
   "id": "cc3c60c5-1314-4bf0-81d6-10c590489921",
   "metadata": {},
   "outputs": [],
   "source": [
    "def crawl_naver_entertainment(url):\n",
    "    response = requests.get(url)\n",
    "    soup = BeautifulSoup(response.text, \"lxml\")\n",
    "    article = soup.find(\"div\", class_=\"article_body\").text.strip()\n",
    "    return article   "
   ]
  },
  {
   "cell_type": "code",
   "execution_count": 34,
   "id": "0ba347a5-66bf-4057-94a0-1cf17473693d",
   "metadata": {},
   "outputs": [
    {
     "data": {
      "text/plain": [
       "'정국. 빅히트뮤직방탄소년단 정국이 미국 빌보드 차트를 강타했다.10일(현지시간) 미국 음악 전문 매체 빌보드가 발표한 최신 차트(10월 14일 자)에 따르면, 방탄소년단 정국의 두 번째 솔로 싱글 ‘3D (feat. Jack Harlow)’가 메인 송차트 ‘핫 100’에서 5위에 올랐다. 정국의 첫 번째 싱글 ‘Seven (feat. Latto)’은 57위로 12주 연속 ‘핫 100’ 차트인했다.특히, 정국은 지난해 슈가가 프로듀싱한 하이브 오리지널 스토리 ‘7FATES: CHAKHO’의 OST ‘Stay Alive’ (Prod. SUGA of BTS)’와 찰리 푸스와의 협업곡 ‘Lefe and Right’, 올해 ‘Seven’과 ‘3D’ 등 통산 4개의 솔로 곡을 ‘핫 100’에 올렸다. 정국은 특히, 한국 솔로 아티스트로는 최초로 두 개 이상의 노래를 공개와 동시에 이 차트의 ‘톱 5’에 진입시킨 가수가 됐다.‘3D’는 ‘디지털 송 세일즈’, ‘글로벌 200’, ‘글로벌(미국 제외)’에서 각각 1위에 올랐고, ‘스트리밍 송’ 12위, ‘팝 에어플레이’ 34위 등 여러 차트에 포진했다.‘Seven’도 꾸준히 인기몰이 중이다. 이 곡은 ‘글로벌(미국 제외)’ 2위, ‘글로벌 200’ 3위에 이름을 올리며 ‘3D’와 쌍끌이 흥행을 이끌고 있다.뷔의 솔로 앨범 ‘Layover’는 메인 앨범차트 ‘빌보드 200’에서 70위로 4주 연속 차트인한 것을 비롯해 ‘톱 커런트 앨범’ 6위, ‘톱 앨범 세일즈’ 10위에 올랐다. 이 앨범의 타이틀곡 ‘Slow Dancing’은 ‘글로벌(미국 제외)’ 20위, ‘글로벌 200’ 36위에 자리했다.지민 솔로 앨범 ‘FACE’의 타이틀곡 ‘Like Crazy’는 ‘글로벌(미국 제외)’ 48위, ‘글로벌 200’ 77위에 랭크됐으며, 제이홉의 솔로 앨범 ‘Jack In The Box’는 ‘톱 커런트 앨범’ 41위, ‘톱 앨범 세일즈’ 57위에 랭크됐다.김도곤 온라인기자 kim2010@kyunghyang.com'"
      ]
     },
     "execution_count": 34,
     "metadata": {},
     "output_type": "execute_result"
    }
   ],
   "source": [
    "crawl_naver_entertainment(url)"
   ]
  },
  {
   "cell_type": "code",
   "execution_count": null,
   "id": "73741d4c-0fb8-4760-85fe-d780e75180db",
   "metadata": {},
   "outputs": [],
   "source": []
  }
 ],
 "metadata": {
  "kernelspec": {
   "display_name": "Python 3 (ipykernel)",
   "language": "python",
   "name": "python3"
  },
  "language_info": {
   "codemirror_mode": {
    "name": "ipython",
    "version": 3
   },
   "file_extension": ".py",
   "mimetype": "text/x-python",
   "name": "python",
   "nbconvert_exporter": "python",
   "pygments_lexer": "ipython3",
   "version": "3.12.2"
  }
 },
 "nbformat": 4,
 "nbformat_minor": 5
}
